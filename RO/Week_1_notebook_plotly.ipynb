{
 "cells": [
  {
   "cell_type": "code",
   "execution_count": null,
   "metadata": {},
   "outputs": [
    {
     "data": {
      "application/vnd.plotly.v1+json": {
       "config": {
        "plotlyServerURL": "https://plot.ly"
       },
       "data": [
        {
         "marker": {
          "color": "red",
          "symbol": "x"
         },
         "mode": "markers",
         "name": "Run 1",
         "type": "scatter",
         "x": {
          "bdata": "AAAAAAAA0D8AAAAAAADgPwAAAAAAAOg/AAAAAAAA8D8AAAAAAAAAQAAAAAAAAAhAAAAAAAAAEEAAAAAAAAAUQAAAAAAAAAAA",
          "dtype": "f8"
         },
         "y": {
          "bdata": "P8bctYR84D97FK5H4XrwP6RwPQrXo/Y/HVpkO99P/z8K16NwPQoPQMP1KFyPwhZApHA9CtejHUD2KFyPwvUhQJqZmZmZmZk/",
          "dtype": "f8"
         }
        },
        {
         "marker": {
          "color": "blue",
          "symbol": "star"
         },
         "mode": "markers",
         "name": "Run 2",
         "type": "scatter",
         "x": {
          "bdata": "AAAAAAAA0D8AAAAAAADgPwAAAAAAAOg/AAAAAAAA8D8AAAAAAAAAQAAAAAAAAAhAAAAAAAAAEEAAAAAAAAAUQAAAAAAAAAAA",
          "dtype": "f8"
         },
         "y": {
          "bdata": "ak3zjlN04D8730+Nl27wP8/3U+Olm/Y/c2iR7Xw//z/2KFyPwvUOQK5H4XoUrhZApHA9CtejHUCF61G4HgUiQI0o7Q2+MJk/",
          "dtype": "f8"
         }
        },
        {
         "marker": {
          "color": "green",
          "symbol": "cross"
         },
         "mode": "markers",
         "name": "Run 3",
         "type": "scatter",
         "x": {
          "bdata": "AAAAAAAA0D8AAAAAAADgPwAAAAAAAOg/AAAAAAAA8D8AAAAAAAAAQAAAAAAAAAhAAAAAAAAAEEAAAAAAAAAUQAAAAAAAAAAA",
          "dtype": "f8"
         },
         "y": {
          "bdata": "ppvEILBy4D/RItv5fmrwP4/C9Shcj/Y/yXa+nxov/z/NzMzMzMwOQLgehetRuBZAZmZmZmZmHUBxPQrXo/AhQI0o7Q2+MJk/",
          "dtype": "f8"
         }
        },
        {
         "error_y": {
          "array": {
           "bdata": "sKKXpEcdrD+gioGAQyGqPwA39msRXag/AJ+ozaTdpj8AFp7fA5qkP4CKFcHV7Kg/gHQnTveusD+ABJvVaMy1PyoLerklRq4/sKKXpEcdrD+gioGAQyGqPwA39msRXag/AJ+ozaTdpj8AFp7fA5qkP4CKFcHV7Kg/gHQnTveusD+ABJvVaMy1PyoLerklRq4/sKKXpEcdrD+gioGAQyGqPwA39msRXag/AJ+ozaTdpj8AFp7fA5qkP4CKFcHV7Kg/gHQnTveusD+ABJvVaMy1PyoLerklRq4/",
           "dtype": "f8"
          },
          "arrayminus": {
           "bdata": "sKKXpEcdrD+QioGAQyGqPwA39msRXag/AJ+ozaTdpj8AFp7fA5qkP4CKFcHV7Kg/gHQnTveusD+ABJvVaMy1PykLerklRq4/sKKXpEcdrD+QioGAQyGqPwA39msRXag/AJ+ozaTdpj8AFp7fA5qkP4CKFcHV7Kg/gHQnTveusD+ABJvVaMy1PykLerklRq4/sKKXpEcdrD+QioGAQyGqPwA39msRXag/AJ+ozaTdpj8AFp7fA5qkP4CKFcHV7Kg/gHQnTveusD+ABJvVaMy1PykLerklRq4/",
           "dtype": "f8"
          },
          "color": "red",
          "symmetric": false,
          "type": "data",
          "visible": true
         },
         "line": {
          "color": "black"
         },
         "mode": "lines",
         "name": "Fitted Model",
         "type": "scatter",
         "x": {
          "bdata": "AAAAAAAA0D8AAAAAAADgPwAAAAAAAOg/AAAAAAAA8D8AAAAAAAAAQAAAAAAAAAhAAAAAAAAAEEAAAAAAAAAUQAAAAAAAAAAAAAAAAAAA0D8AAAAAAADgPwAAAAAAAOg/AAAAAAAA8D8AAAAAAAAAQAAAAAAAAAhAAAAAAAAAEEAAAAAAAAAUQAAAAAAAAAAAAAAAAAAA0D8AAAAAAADgPwAAAAAAAOg/AAAAAAAA8D8AAAAAAAAAQAAAAAAAAAhAAAAAAAAAEEAAAAAAAAAUQAAAAAAAAAAA",
          "dtype": "f8"
         },
         "y": {
          "bdata": "02juxlMP4j8kOi6z9EPwP98/5YI/gPc/mUWcUoq8/j9CLrzI2tYNQNscFTS4JxZAliLMAwNkHUAolMHpJlAiQPPqAjzxtbw/02juxlMP4j8kOi6z9EPwP98/5YI/gPc/mUWcUoq8/j9CLrzI2tYNQNscFTS4JxZAliLMAwNkHUAolMHpJlAiQPPqAjzxtbw/02juxlMP4j8kOi6z9EPwP98/5YI/gPc/mUWcUoq8/j9CLrzI2tYNQNscFTS4JxZAliLMAwNkHUAolMHpJlAiQPPqAjzxtbw/",
          "dtype": "f8"
         }
        }
       ],
       "layout": {
        "template": {
         "data": {
          "bar": [
           {
            "error_x": {
             "color": "#2a3f5f"
            },
            "error_y": {
             "color": "#2a3f5f"
            },
            "marker": {
             "line": {
              "color": "#E5ECF6",
              "width": 0.5
             },
             "pattern": {
              "fillmode": "overlay",
              "size": 10,
              "solidity": 0.2
             }
            },
            "type": "bar"
           }
          ],
          "barpolar": [
           {
            "marker": {
             "line": {
              "color": "#E5ECF6",
              "width": 0.5
             },
             "pattern": {
              "fillmode": "overlay",
              "size": 10,
              "solidity": 0.2
             }
            },
            "type": "barpolar"
           }
          ],
          "carpet": [
           {
            "aaxis": {
             "endlinecolor": "#2a3f5f",
             "gridcolor": "white",
             "linecolor": "white",
             "minorgridcolor": "white",
             "startlinecolor": "#2a3f5f"
            },
            "baxis": {
             "endlinecolor": "#2a3f5f",
             "gridcolor": "white",
             "linecolor": "white",
             "minorgridcolor": "white",
             "startlinecolor": "#2a3f5f"
            },
            "type": "carpet"
           }
          ],
          "choropleth": [
           {
            "colorbar": {
             "outlinewidth": 0,
             "ticks": ""
            },
            "type": "choropleth"
           }
          ],
          "contour": [
           {
            "colorbar": {
             "outlinewidth": 0,
             "ticks": ""
            },
            "colorscale": [
             [
              0,
              "#0d0887"
             ],
             [
              0.1111111111111111,
              "#46039f"
             ],
             [
              0.2222222222222222,
              "#7201a8"
             ],
             [
              0.3333333333333333,
              "#9c179e"
             ],
             [
              0.4444444444444444,
              "#bd3786"
             ],
             [
              0.5555555555555556,
              "#d8576b"
             ],
             [
              0.6666666666666666,
              "#ed7953"
             ],
             [
              0.7777777777777778,
              "#fb9f3a"
             ],
             [
              0.8888888888888888,
              "#fdca26"
             ],
             [
              1,
              "#f0f921"
             ]
            ],
            "type": "contour"
           }
          ],
          "contourcarpet": [
           {
            "colorbar": {
             "outlinewidth": 0,
             "ticks": ""
            },
            "type": "contourcarpet"
           }
          ],
          "heatmap": [
           {
            "colorbar": {
             "outlinewidth": 0,
             "ticks": ""
            },
            "colorscale": [
             [
              0,
              "#0d0887"
             ],
             [
              0.1111111111111111,
              "#46039f"
             ],
             [
              0.2222222222222222,
              "#7201a8"
             ],
             [
              0.3333333333333333,
              "#9c179e"
             ],
             [
              0.4444444444444444,
              "#bd3786"
             ],
             [
              0.5555555555555556,
              "#d8576b"
             ],
             [
              0.6666666666666666,
              "#ed7953"
             ],
             [
              0.7777777777777778,
              "#fb9f3a"
             ],
             [
              0.8888888888888888,
              "#fdca26"
             ],
             [
              1,
              "#f0f921"
             ]
            ],
            "type": "heatmap"
           }
          ],
          "histogram": [
           {
            "marker": {
             "pattern": {
              "fillmode": "overlay",
              "size": 10,
              "solidity": 0.2
             }
            },
            "type": "histogram"
           }
          ],
          "histogram2d": [
           {
            "colorbar": {
             "outlinewidth": 0,
             "ticks": ""
            },
            "colorscale": [
             [
              0,
              "#0d0887"
             ],
             [
              0.1111111111111111,
              "#46039f"
             ],
             [
              0.2222222222222222,
              "#7201a8"
             ],
             [
              0.3333333333333333,
              "#9c179e"
             ],
             [
              0.4444444444444444,
              "#bd3786"
             ],
             [
              0.5555555555555556,
              "#d8576b"
             ],
             [
              0.6666666666666666,
              "#ed7953"
             ],
             [
              0.7777777777777778,
              "#fb9f3a"
             ],
             [
              0.8888888888888888,
              "#fdca26"
             ],
             [
              1,
              "#f0f921"
             ]
            ],
            "type": "histogram2d"
           }
          ],
          "histogram2dcontour": [
           {
            "colorbar": {
             "outlinewidth": 0,
             "ticks": ""
            },
            "colorscale": [
             [
              0,
              "#0d0887"
             ],
             [
              0.1111111111111111,
              "#46039f"
             ],
             [
              0.2222222222222222,
              "#7201a8"
             ],
             [
              0.3333333333333333,
              "#9c179e"
             ],
             [
              0.4444444444444444,
              "#bd3786"
             ],
             [
              0.5555555555555556,
              "#d8576b"
             ],
             [
              0.6666666666666666,
              "#ed7953"
             ],
             [
              0.7777777777777778,
              "#fb9f3a"
             ],
             [
              0.8888888888888888,
              "#fdca26"
             ],
             [
              1,
              "#f0f921"
             ]
            ],
            "type": "histogram2dcontour"
           }
          ],
          "mesh3d": [
           {
            "colorbar": {
             "outlinewidth": 0,
             "ticks": ""
            },
            "type": "mesh3d"
           }
          ],
          "parcoords": [
           {
            "line": {
             "colorbar": {
              "outlinewidth": 0,
              "ticks": ""
             }
            },
            "type": "parcoords"
           }
          ],
          "pie": [
           {
            "automargin": true,
            "type": "pie"
           }
          ],
          "scatter": [
           {
            "fillpattern": {
             "fillmode": "overlay",
             "size": 10,
             "solidity": 0.2
            },
            "type": "scatter"
           }
          ],
          "scatter3d": [
           {
            "line": {
             "colorbar": {
              "outlinewidth": 0,
              "ticks": ""
             }
            },
            "marker": {
             "colorbar": {
              "outlinewidth": 0,
              "ticks": ""
             }
            },
            "type": "scatter3d"
           }
          ],
          "scattercarpet": [
           {
            "marker": {
             "colorbar": {
              "outlinewidth": 0,
              "ticks": ""
             }
            },
            "type": "scattercarpet"
           }
          ],
          "scattergeo": [
           {
            "marker": {
             "colorbar": {
              "outlinewidth": 0,
              "ticks": ""
             }
            },
            "type": "scattergeo"
           }
          ],
          "scattergl": [
           {
            "marker": {
             "colorbar": {
              "outlinewidth": 0,
              "ticks": ""
             }
            },
            "type": "scattergl"
           }
          ],
          "scattermap": [
           {
            "marker": {
             "colorbar": {
              "outlinewidth": 0,
              "ticks": ""
             }
            },
            "type": "scattermap"
           }
          ],
          "scattermapbox": [
           {
            "marker": {
             "colorbar": {
              "outlinewidth": 0,
              "ticks": ""
             }
            },
            "type": "scattermapbox"
           }
          ],
          "scatterpolar": [
           {
            "marker": {
             "colorbar": {
              "outlinewidth": 0,
              "ticks": ""
             }
            },
            "type": "scatterpolar"
           }
          ],
          "scatterpolargl": [
           {
            "marker": {
             "colorbar": {
              "outlinewidth": 0,
              "ticks": ""
             }
            },
            "type": "scatterpolargl"
           }
          ],
          "scatterternary": [
           {
            "marker": {
             "colorbar": {
              "outlinewidth": 0,
              "ticks": ""
             }
            },
            "type": "scatterternary"
           }
          ],
          "surface": [
           {
            "colorbar": {
             "outlinewidth": 0,
             "ticks": ""
            },
            "colorscale": [
             [
              0,
              "#0d0887"
             ],
             [
              0.1111111111111111,
              "#46039f"
             ],
             [
              0.2222222222222222,
              "#7201a8"
             ],
             [
              0.3333333333333333,
              "#9c179e"
             ],
             [
              0.4444444444444444,
              "#bd3786"
             ],
             [
              0.5555555555555556,
              "#d8576b"
             ],
             [
              0.6666666666666666,
              "#ed7953"
             ],
             [
              0.7777777777777778,
              "#fb9f3a"
             ],
             [
              0.8888888888888888,
              "#fdca26"
             ],
             [
              1,
              "#f0f921"
             ]
            ],
            "type": "surface"
           }
          ],
          "table": [
           {
            "cells": {
             "fill": {
              "color": "#EBF0F8"
             },
             "line": {
              "color": "white"
             }
            },
            "header": {
             "fill": {
              "color": "#C8D4E3"
             },
             "line": {
              "color": "white"
             }
            },
            "type": "table"
           }
          ]
         },
         "layout": {
          "annotationdefaults": {
           "arrowcolor": "#2a3f5f",
           "arrowhead": 0,
           "arrowwidth": 1
          },
          "autotypenumbers": "strict",
          "coloraxis": {
           "colorbar": {
            "outlinewidth": 0,
            "ticks": ""
           }
          },
          "colorscale": {
           "diverging": [
            [
             0,
             "#8e0152"
            ],
            [
             0.1,
             "#c51b7d"
            ],
            [
             0.2,
             "#de77ae"
            ],
            [
             0.3,
             "#f1b6da"
            ],
            [
             0.4,
             "#fde0ef"
            ],
            [
             0.5,
             "#f7f7f7"
            ],
            [
             0.6,
             "#e6f5d0"
            ],
            [
             0.7,
             "#b8e186"
            ],
            [
             0.8,
             "#7fbc41"
            ],
            [
             0.9,
             "#4d9221"
            ],
            [
             1,
             "#276419"
            ]
           ],
           "sequential": [
            [
             0,
             "#0d0887"
            ],
            [
             0.1111111111111111,
             "#46039f"
            ],
            [
             0.2222222222222222,
             "#7201a8"
            ],
            [
             0.3333333333333333,
             "#9c179e"
            ],
            [
             0.4444444444444444,
             "#bd3786"
            ],
            [
             0.5555555555555556,
             "#d8576b"
            ],
            [
             0.6666666666666666,
             "#ed7953"
            ],
            [
             0.7777777777777778,
             "#fb9f3a"
            ],
            [
             0.8888888888888888,
             "#fdca26"
            ],
            [
             1,
             "#f0f921"
            ]
           ],
           "sequentialminus": [
            [
             0,
             "#0d0887"
            ],
            [
             0.1111111111111111,
             "#46039f"
            ],
            [
             0.2222222222222222,
             "#7201a8"
            ],
            [
             0.3333333333333333,
             "#9c179e"
            ],
            [
             0.4444444444444444,
             "#bd3786"
            ],
            [
             0.5555555555555556,
             "#d8576b"
            ],
            [
             0.6666666666666666,
             "#ed7953"
            ],
            [
             0.7777777777777778,
             "#fb9f3a"
            ],
            [
             0.8888888888888888,
             "#fdca26"
            ],
            [
             1,
             "#f0f921"
            ]
           ]
          },
          "colorway": [
           "#636efa",
           "#EF553B",
           "#00cc96",
           "#ab63fa",
           "#FFA15A",
           "#19d3f3",
           "#FF6692",
           "#B6E880",
           "#FF97FF",
           "#FECB52"
          ],
          "font": {
           "color": "#2a3f5f"
          },
          "geo": {
           "bgcolor": "white",
           "lakecolor": "white",
           "landcolor": "#E5ECF6",
           "showlakes": true,
           "showland": true,
           "subunitcolor": "white"
          },
          "hoverlabel": {
           "align": "left"
          },
          "hovermode": "closest",
          "mapbox": {
           "style": "light"
          },
          "paper_bgcolor": "white",
          "plot_bgcolor": "#E5ECF6",
          "polar": {
           "angularaxis": {
            "gridcolor": "white",
            "linecolor": "white",
            "ticks": ""
           },
           "bgcolor": "#E5ECF6",
           "radialaxis": {
            "gridcolor": "white",
            "linecolor": "white",
            "ticks": ""
           }
          },
          "scene": {
           "xaxis": {
            "backgroundcolor": "#E5ECF6",
            "gridcolor": "white",
            "gridwidth": 2,
            "linecolor": "white",
            "showbackground": true,
            "ticks": "",
            "zerolinecolor": "white"
           },
           "yaxis": {
            "backgroundcolor": "#E5ECF6",
            "gridcolor": "white",
            "gridwidth": 2,
            "linecolor": "white",
            "showbackground": true,
            "ticks": "",
            "zerolinecolor": "white"
           },
           "zaxis": {
            "backgroundcolor": "#E5ECF6",
            "gridcolor": "white",
            "gridwidth": 2,
            "linecolor": "white",
            "showbackground": true,
            "ticks": "",
            "zerolinecolor": "white"
           }
          },
          "shapedefaults": {
           "line": {
            "color": "#2a3f5f"
           }
          },
          "ternary": {
           "aaxis": {
            "gridcolor": "white",
            "linecolor": "white",
            "ticks": ""
           },
           "baxis": {
            "gridcolor": "white",
            "linecolor": "white",
            "ticks": ""
           },
           "bgcolor": "#E5ECF6",
           "caxis": {
            "gridcolor": "white",
            "linecolor": "white",
            "ticks": ""
           }
          },
          "title": {
           "x": 0.05
          },
          "xaxis": {
           "automargin": true,
           "gridcolor": "white",
           "linecolor": "white",
           "ticks": "",
           "title": {
            "standoff": 15
           },
           "zerolinecolor": "white",
           "zerolinewidth": 2
          },
          "yaxis": {
           "automargin": true,
           "gridcolor": "white",
           "linecolor": "white",
           "ticks": "",
           "title": {
            "standoff": 15
           },
           "zerolinecolor": "white",
           "zerolinewidth": 2
          }
         }
        }
       }
      }
     },
     "metadata": {},
     "output_type": "display_data"
    },
    {
     "data": {
      "image/png": "[encoded data removed]",
      "text/plain": [
       "<Figure size 640x480 with 1 Axes>"
      ]
     },
     "metadata": {},
     "output_type": "display_data"
    }
   ],
   "source": [
    "import pandas as pd\n",
    "import numpy as np\n",
    "import scipy.stats as stats\n",
    "import statsmodels.api as sm\n",
    "import plotly.graph_objects as go\n",
    "import matplotlib.pyplot as plt\n",
    "\n",
    "def plot_calibration(fileName):\n",
    "    # Load data from Excel\n",
    "    df = pd.read_excel(fileName, sheet_name=\"Results\")\n",
    "    \n",
    "    x_from_excel = df[\"Concentration_(g/L)\"]\n",
    "    y1 = df[\"Conductivity_A_(mS)\"]\n",
    "    y2 = df[\"Conductivity_B_(mS)\"]\n",
    "    y3 = df[\"Conductivity_C_(mS)\"]\n",
    "    \n",
    "    # Concat y arrays to get all y data, and replicate x_data 3 times so all \n",
    "    # y values have the correct corresponding value in x_data\n",
    "    y_data = np.concatenate([y1,y2,y3])\n",
    "    # print(x_from_excel)\n",
    "    x_data = np.tile(x_from_excel,3)\n",
    "    \n",
    "    # print(x_data)\n",
    "    # print(y_data)\n",
    "    \n",
    "    # Add a constant term for the intercept so statsmodel\n",
    "    # can try and find an intercept\n",
    "    X = sm.add_constant(x_data)\n",
    "    # print(x_data)\n",
    "    # print(X)\n",
    "    \n",
    "    # Fit the OLS model to the data \n",
    "    model = sm.OLS(y_data, X).fit()\n",
    "    # print(model.summary())\n",
    "    \n",
    "    # Confidence intervals for the model parameters\n",
    "    conf_intervals = model.conf_int()\n",
    "    # print(conf_intervals)\n",
    "    \n",
    "    # Get prediction results\n",
    "    pred = model.get_prediction(X)\n",
    "    pred_summary = pred.summary_frame(alpha=0.05)  # 95% confidence intervals\n",
    "    # print(pred)\n",
    "    # Extract confidence intervals\n",
    "    ci_lower = pred_summary['mean_ci_lower']\n",
    "    ci_upper = pred_summary['mean_ci_upper']\n",
    "    # print(ci_lower)\n",
    "    # print(ci_upper)\n",
    "    \n",
    "    plt.figure()\n",
    "    plt.scatter(x_from_excel, y1, marker=\"x\")\n",
    "    plt.scatter(x_from_excel, y2,marker=\"*\")\n",
    "    plt.scatter(x_from_excel, y3,marker=\"+\")\n",
    "    # plt.fill_between(x_from_excel, ci_lower, ci_upper, color='red', alpha=0.3, label='95% CI')\n",
    "    \n",
    "    plt.plot(x_data, model.fittedvalues)\n",
    "    # print(x_from_excel)\n",
    "    plt.fill_between(x_data, ci_lower, ci_upper, color=\"red\", alpha=0.3, label=\"95% CI\")\n",
    "\n",
    "    plt.xlabel(\"Concentration (g/L)\")\n",
    "    plt.ylabel(\"Conductivity (mS)\")\n",
    "    plt.legend()\n",
    "    # plt.show()\n",
    "    \n",
    "    fig = go.Figure()\n",
    "    \n",
    "    # Plot the three runs \n",
    "    # fig.add_trace(go.Scatter(x=x_from_excel, y=y1, mode='markers', marker=dict(symbol='x'), name='y1'))\n",
    "    fig.add_trace(go.Scatter(x=x_from_excel,y=y1, mode=\"markers\", marker=dict(symbol=\"x\", color=\"red\"), name=\"Run 1\"))\n",
    "    fig.add_trace(go.Scatter(x=x_from_excel,y=y2, mode=\"markers\", marker=dict(symbol=\"star\",color=\"blue\"), name=\"Run 2\"))\n",
    "    fig.add_trace(go.Scatter(x=x_from_excel,y=y3, mode=\"markers\", marker=dict(symbol=\"cross\",color=\"green\"), name=\"Run 3\"))\n",
    "    \n",
    "    # Plot the OLS regression and add error bars\n",
    "    \n",
    "    upper_error = ci_upper - model.fittedvalues  # Distance from fit line to upper bound\n",
    "    lower_error = model.fittedvalues - ci_lower  # Distance from fit line to lower bound\n",
    "\n",
    "    fig.add_trace(go.Scatter(\n",
    "        x=x_data, \n",
    "        y=model.fittedvalues, \n",
    "        mode='lines', \n",
    "        name='Fitted Model',\n",
    "        line=dict(color=\"black\"),\n",
    "        error_y=dict(\n",
    "            type='data',\n",
    "            symmetric=False,  # Allow different upper and lower errors\n",
    "            array=upper_error,  # Upper error bound\n",
    "            arrayminus=lower_error,  # Lower error bound\n",
    "            visible=True,\n",
    "            color=\"black\"\n",
    "        )\n",
    "    ))\n",
    "    \n",
    "\n",
    "    # Plot the confidence intervals \n",
    "    # fig.add_trace(go.Scatter(x=x_data, y=ci_upper, fill=None, mode='lines', line=dict(color='red'), showlegend=False))\n",
    "    # fig.add_trace(go.Scatter(x=x_data, y=ci_lower, fill='tonexty', mode='lines', line=dict(color='red'), fillcolor='rgba(255, 0, 0, 0.3)', name='95% CI'))\n",
    "\n",
    "    \n",
    "    fig.show()\n",
    "    \n",
    "    \n",
    "    \n",
    "\n",
    "   \n",
    "\n",
    "plot_calibration(\"RO_Week_1_Data.xlsx\")\n",
    "# plot_calibration(\"RO_Week_2_Data.xlsx\")\n",
    "\n"
   ]
  },
  {
   "cell_type": "code",
   "execution_count": null,
   "metadata": {},
   "outputs": [
    {
     "name": "stdout",
     "output_type": "stream",
     "text": [
      "[[1.   0.25]\n",
      " [1.   0.5 ]\n",
      " [1.   0.75]\n",
      " [1.   1.  ]\n",
      " [1.   2.  ]\n",
      " [1.   3.  ]\n",
      " [1.   4.  ]\n",
      " [1.   5.  ]\n",
      " [1.   0.  ]\n",
      " [1.   0.25]\n",
      " [1.   0.5 ]\n",
      " [1.   0.75]\n",
      " [1.   1.  ]\n",
      " [1.   2.  ]\n",
      " [1.   3.  ]\n",
      " [1.   4.  ]\n",
      " [1.   5.  ]\n",
      " [1.   0.  ]\n",
      " [1.   0.25]\n",
      " [1.   0.5 ]\n",
      " [1.   0.75]\n",
      " [1.   1.  ]\n",
      " [1.   2.  ]\n",
      " [1.   3.  ]\n",
      " [1.   4.  ]\n",
      " [1.   5.  ]\n",
      " [1.   0.  ]]\n"
     ]
    }
   ],
   "source": [
    "import pandas as pd\n",
    "import numpy as np\n",
    "import scipy.stats as stats\n",
    "import statsmodels.api as sm\n",
    "import plotly.graph_objects as go\n",
    "\n",
    "def plot_calibration(fileName):\n",
    "    # Load data from Excel\n",
    "    df = pd.read_excel(fileName, sheet_name=\"Results\")\n",
    "    \n",
    "    x_from_excel = df[\"Concentration_(g/L)\"]\n",
    "    y1 = df[\"Conductivity_A_(mS)\"]\n",
    "    y2 = df[\"Conductivity_B_(mS)\"]\n",
    "    y3 = df[\"Conductivity_C_(mS)\"]\n",
    "    \n",
    "    # Concat y arrays to get all y data, and replicate x_data 3 times so all \n",
    "    # y values have the correct corresponding value in x_data\n",
    "    y_data = np.concatenate([y1,y2,y3])\n",
    "    # print(x_from_excel)\n",
    "    x_data = np.tile(x_from_excel,3)\n",
    "    \n",
    "    # print(x_data)\n",
    "    # print(y_data)\n",
    "    \n",
    "    # Add a constant term for the intercept\n",
    "    X = sm.add_constant(x_data)\n",
    "    print(x_data)\n",
    "    print(X)\n",
    "    \n",
    "    # Fit the OLS model to the data \n",
    "    model = sm.OLS(y_data, X).fit()\n",
    "    # print(model.summary())\n",
    "    \n",
    "    # Confidence intervals for the model parameters\n",
    "    conf_intervals = model.conf_int()\n",
    "    # print(conf_intervals)\n",
    "    \n",
    "    # Get prediction results\n",
    "    pred = model.get_prediction(X)\n",
    "    pred_summary = pred.summary_frame(alpha=0.05)  # 95% confidence intervals\n",
    "    \n",
    "    # Extract confidence intervals\n",
    "    ci_lower = pred_summary['mean_ci_lower']\n",
    "    ci_upper = pred_summary['mean_ci_upper']\n",
    "    # print(ci_lower)\n",
    "    # print(ci_upper)\n",
    "\n",
    "    # # Combine all y values into one dataset for regression\n",
    "    # all_y = np.concatenate([y1, y2, y3])\n",
    "    # # Repeat x-values to match y-values\n",
    "    # all_x = np.tile(x_original, 3)  \n",
    "\n",
    "    # # Prepare data for statsmodels regression\n",
    "    # x = sm.add_constant(all_x)  # Add intercept term\n",
    "    # y = pd.concat([y1, y2, y3]).reset_index(drop=True)  # Flatten y values\n",
    "\n",
    "    # # Fit Ordinary Least Squares (OLS) model\n",
    "    # model = sm.OLS(y, x).fit()\n",
    "\n",
    "    # # Extract regression parameters\n",
    "    # slope = model.params.iloc[1]  # Slope\n",
    "    # intercept = model.params.iloc[0]  # Intercept\n",
    "    # equation_text = f\"y = {slope:.4f}x + {intercept:.4f}\"  # Equation text for display\n",
    "\n",
    "    # # Compute and print 95% confidence intervals\n",
    "    # conf_int = model.conf_int(alpha=0.05)\n",
    "    # print(\"95% Confidence Intervals for Regression Coefficients:\")\n",
    "    # print(f\"Intercept: {conf_int.iloc[0, 0]:.5f} to {conf_int.iloc[0, 1]:.5f}\")\n",
    "    # print(f\"Slope: {conf_int.iloc[1, 0]:.5f} to {conf_int.iloc[1, 1]:.5f}\")\n",
    "\n",
    "    # # Compute linear regression using SciPy\n",
    "    # scipy_slope, scipy_intercept, _, _, _ = stats.linregress(all_x, all_y)\n",
    "\n",
    "    # # Generate x values for plotting regression lines\n",
    "    # x_linespace = np.linspace(x_original.min(), x_original.max(), 10000)\n",
    "    \n",
    "    # # Calculate predicted values to get error bars \n",
    "    # y_pred = model.predict(sm.add_constant(x_original))\n",
    "    \n",
    "    \n",
    "    # delete this \n",
    "    # # # Create Plotly figure\n",
    "    # # fig = go.Figure()\n",
    "\n",
    "    # # # Scatter plots for individual trials\n",
    "    # # fig.add_trace(go.Scatter(x=x_original, y=y1, mode='markers', marker=dict(color='black', symbol='x', size=6),\n",
    "    # #                          name=\"Trial A\"))\n",
    "    # # fig.add_trace(go.Scatter(x=x_original, y=y2, mode='markers', marker=dict(color='red', symbol='circle', size=6),\n",
    "    # #                          name=\"Trial B\"))\n",
    "    # # fig.add_trace(go.Scatter(x=x_original, y=y3, mode='markers', marker=dict(color='blue', size=6),\n",
    "    # #                          name=\"Trial C\"))\n",
    "\n",
    "    # # # Plot regression lines\n",
    "    # # fig.add_trace(go.Scatter(x=x_linespace, y=slope * x_linespace + intercept, mode='lines', line=dict(color='blue'),\n",
    "    # #                          name=\"Statsmodels Fit\"))\n",
    "    # # # fig.add_trace(go.Scatter(x=x_linespace, y=scipy_slope * x_linespace + scipy_intercept, mode='lines', \n",
    "    # # #                          line=dict(color='red', dash='dash'), name=\"SciPy Fit\"))\n",
    "\n",
    "    # # # Add equation annotation\n",
    "    # # fig.add_annotation(\n",
    "    # #     x=x_original.max(),\n",
    "    # #     y=slope * x_original.max() + intercept,\n",
    "    # #     text=f\"<b>{equation_text}</b>\",\n",
    "    # #     # showarrow=False,\n",
    "    # #     font=dict(size=14, color=\"black\"),\n",
    "    # #     align=\"right\",\n",
    "    # #     xanchor=\"right\",\n",
    "    # #     yanchor=\"bottom\",\n",
    "    # #     bgcolor=\"white\"\n",
    "    # # )\n",
    "\n",
    "    # # # Layout customization\n",
    "    # # fig.update_layout(\n",
    "    # #     title=f\"Calibration Curve - {fileName}\",\n",
    "    # #     xaxis_title=\"Concentration (g/L)\",\n",
    "    # #     yaxis_title=\"Conductivity (mS)\",\n",
    "    # #     legend=dict(x=0, y=1),\n",
    "    # #     template=\"plotly_white\",\n",
    "    # #     autosize=False,\n",
    "    # #     width=600,\n",
    "    # #     height=600\n",
    "    # # )\n",
    "\n",
    "    # # # Show interactive plot\n",
    "    # # fig.show()\n",
    "\n",
    "plot_calibration(\"RO_Week_1_Data.xlsx\")\n",
    "# plot_calibration(\"RO_Week_2_Data.xlsx\")\n",
    "\n"
   ]
  },
  {
   "cell_type": "code",
   "execution_count": null,
   "metadata": {},
   "outputs": [],
   "source": []
  }
 ],
 "metadata": {
  "kernelspec": {
   "display_name": "plotly_env_RO",
   "language": "python",
   "name": "python3"
  },
  "language_info": {
   "codemirror_mode": {
    "name": "ipython",
    "version": 3
   },
   "file_extension": ".py",
   "mimetype": "text/x-python",
   "name": "python",
   "nbconvert_exporter": "python",
   "pygments_lexer": "ipython3",
   "version": "3.13.2"
  }
 },
 "nbformat": 4,
 "nbformat_minor": 2
}
