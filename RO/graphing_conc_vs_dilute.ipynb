{
 "cells": [
  {
   "cell_type": "code",
   "execution_count": 3,
   "metadata": {},
   "outputs": [
    {
     "data": {
      "application/vnd.plotly.v1+json": {
       "config": {
        "plotlyServerURL": "https://plot.ly"
       },
       "data": [
        {
         "marker": {
          "color": "red",
          "symbol": "x"
         },
         "mode": "markers",
         "name": "Runs 0-4",
         "type": "scatter",
         "x": {
          "bdata": "mpmZmZmZmT8/xty1hHzgP3sUrkfhevA/pHA9Ctej9j8dWmQ730//P40o7Q2+MJk/ak3zjlN04D8730+Nl27wP8/3U+Olm/Y/c2iR7Xw//z+NKO0NvjCZP6abxCCwcuA/0SLb+X5q8D+PwvUoXI/2P8l2vp8aL/8/",
          "dtype": "f8"
         },
         "y": {
          "bdata": "AAAAAAAAAAAAAAAAAADQPwAAAAAAAOA/AAAAAAAA6D8AAAAAAADwPwAAAAAAAAAAAAAAAAAA0D8AAAAAAADgPwAAAAAAAOg/AAAAAAAA8D8AAAAAAAAAAAAAAAAAANA/AAAAAAAA4D8AAAAAAADoPwAAAAAAAPA/",
          "dtype": "f8"
         }
        },
        {
         "error_y": {
          "array": {
           "bdata": "wKgx6pxZLT9ANv9IxOZyP0Be9mnj5II/AB63+Nn0iT9ApkM+C/ORP8Cd+ydl4Sw/gP3S7V/dcj8ACTThzNaCPwDlip1164k/gG0X46bpkT/AnfsnZeEsP0Alyg5/23I/gOydsxrSgj/Aj8gUX92JP6A064dC4JE/",
           "dtype": "f8"
          },
          "arrayminus": {
           "bdata": "wKgx6pxZLT9ANv9IxOZyP0Be9mnj5II/AB63+Nn0iT9ApkM+C/ORP8Cd+ydl4Sw/gP3S7V/dcj8ACTThzNaCPwDlip1164k/YG0X46bpkT/AnfsnZeEsP0Alyg5/23I/gOydsxrSgj/Aj8gUX92JP6A064dC4JE/",
           "dtype": "f8"
          },
          "color": "black",
          "symmetric": false,
          "type": "data",
          "visible": true
         },
         "line": {
          "color": "black"
         },
         "mode": "lines",
         "name": "OLS Model (Runs 0-4)",
         "type": "scatter",
         "x": {
          "bdata": "mpmZmZmZmT8/xty1hHzgP3sUrkfhevA/pHA9Ctej9j8dWmQ730//P40o7Q2+MJk/ak3zjlN04D8730+Nl27wP8/3U+Olm/Y/c2iR7Xw//z+NKO0NvjCZP6abxCCwcuA/0SLb+X5q8D+PwvUoXI/2P8l2vp8aL/8/",
          "dtype": "f8"
         },
         "y": {
          "bdata": "qEjnpMk9ij/dMcpYQebQPyx9jmiT5OA/dVcJIQs15z9RXYfWWAzwP3wc+pVN0ok/aaqfp9vd0D//sc7e+tfgPwHQ3m+lLOc/3dVcJfMD8D98HPqVTdKJP7n1Y7ct3NA/RW45BsjT4D/UBB/mDCDnP9OcZOga9+8/",
          "dtype": "f8"
         }
        },
        {
         "marker": {
          "color": "blue",
          "symbol": "circle"
         },
         "mode": "markers",
         "name": "Runs 5-8",
         "type": "scatter",
         "x": {
          "bdata": "CtejcD0KD0DD9Shcj8IWQKRwPQrXox1A9ihcj8L1IUD2KFyPwvUOQK5H4XoUrhZApHA9CtejHUCF61G4HgUiQM3MzMzMzA5AuB6F61G4FkBmZmZmZmYdQHE9Ctej8CFA",
          "dtype": "f8"
         },
         "y": {
          "bdata": "AAAAAAAAAEAAAAAAAAAIQAAAAAAAABBAAAAAAAAAFEAAAAAAAAAAQAAAAAAAAAhAAAAAAAAAEEAAAAAAAAAUQAAAAAAAAABAAAAAAAAACEAAAAAAAAAQQAAAAAAAABRA",
          "dtype": "f8"
         }
        },
        {
         "error_y": {
          "array": {
           "bdata": "gLsHiN9voT9AlvM6P5KpPwBVLOeJprA/gI7u66ottD+AbKNLXmShP0D4KsI8e6k/AFUs54mmsD8ABYXG7D60P4DO2tJbTaE/QEeP/r2GqT8AaP8xBoSwPwBnvE3qJ7Q/",
           "dtype": "f8"
          },
          "arrayminus": {
           "bdata": "gLsHiN9voT9AlvM6P5KpPyBVLOeJprA/gI7u66ottD+AbKNLXmShP0D4KsI8e6k/IFUs54mmsD8ABYXG7D60P4DO2tJbTaE/QEeP/r2GqT8gaP8xBoSwPwBnvE3qJ7Q/",
           "dtype": "f8"
          },
          "color": "blue",
          "symmetric": false,
          "type": "data",
          "visible": true
         },
         "line": {
          "color": "blue"
         },
         "mode": "lines",
         "name": "OLS Model (Runs 5-8)",
         "type": "scatter",
         "x": {
          "bdata": "CtejcD0KD0DD9Shcj8IWQKRwPQrXox1A9ihcj8L1IUD2KFyPwvUOQK5H4XoUrhZApHA9CtejHUCF61G4HgUiQM3MzMzMzA5AuB6F61G4FkBmZmZmZmYdQHE9Ctej8CFA",
          "dtype": "f8"
         },
         "y": {
          "bdata": "61PNuBzgAECeZpEZbL8IQBDXmQNDHRBAKnx5Gk6HE0DmIK1W+tQAQJIAUVUnqQhAENeZA0MdEECyyKmtAZgTQNy6bJK1vgBAlzNxt0m0CEAAfHK6t/cPQKhiaem8gRNA",
          "dtype": "f8"
         }
        }
       ],
       "layout": {
        "annotations": [
         {
          "bgcolor": "white",
          "font": {
           "color": "black",
           "size": 14
          },
          "text": "<b>y = 0.5125x</b> (Runs 0-4)",
          "x": 1.957,
          "xanchor": "right",
          "y": 1.0030144100217806,
          "yanchor": "bottom"
         },
         {
          "bgcolor": "white",
          "font": {
           "color": "blue",
           "size": 14
          },
          "text": "<b>y = 0.5437x</b> (Runs 5-8)",
          "x": 9.01,
          "xanchor": "right",
          "y": 4.89844390248088,
          "yanchor": "bottom"
         }
        ],
        "font": {
         "family": "Arial",
         "size": 14
        },
        "height": 600,
        "margin": {
         "b": 60,
         "l": 60,
         "r": 30,
         "t": 30
        },
        "plot_bgcolor": "white",
        "template": {
         "data": {
          "bar": [
           {
            "error_x": {
             "color": "#2a3f5f"
            },
            "error_y": {
             "color": "#2a3f5f"
            },
            "marker": {
             "line": {
              "color": "#E5ECF6",
              "width": 0.5
             },
             "pattern": {
              "fillmode": "overlay",
              "size": 10,
              "solidity": 0.2
             }
            },
            "type": "bar"
           }
          ],
          "barpolar": [
           {
            "marker": {
             "line": {
              "color": "#E5ECF6",
              "width": 0.5
             },
             "pattern": {
              "fillmode": "overlay",
              "size": 10,
              "solidity": 0.2
             }
            },
            "type": "barpolar"
           }
          ],
          "carpet": [
           {
            "aaxis": {
             "endlinecolor": "#2a3f5f",
             "gridcolor": "white",
             "linecolor": "white",
             "minorgridcolor": "white",
             "startlinecolor": "#2a3f5f"
            },
            "baxis": {
             "endlinecolor": "#2a3f5f",
             "gridcolor": "white",
             "linecolor": "white",
             "minorgridcolor": "white",
             "startlinecolor": "#2a3f5f"
            },
            "type": "carpet"
           }
          ],
          "choropleth": [
           {
            "colorbar": {
             "outlinewidth": 0,
             "ticks": ""
            },
            "type": "choropleth"
           }
          ],
          "contour": [
           {
            "colorbar": {
             "outlinewidth": 0,
             "ticks": ""
            },
            "colorscale": [
             [
              0,
              "#0d0887"
             ],
             [
              0.1111111111111111,
              "#46039f"
             ],
             [
              0.2222222222222222,
              "#7201a8"
             ],
             [
              0.3333333333333333,
              "#9c179e"
             ],
             [
              0.4444444444444444,
              "#bd3786"
             ],
             [
              0.5555555555555556,
              "#d8576b"
             ],
             [
              0.6666666666666666,
              "#ed7953"
             ],
             [
              0.7777777777777778,
              "#fb9f3a"
             ],
             [
              0.8888888888888888,
              "#fdca26"
             ],
             [
              1,
              "#f0f921"
             ]
            ],
            "type": "contour"
           }
          ],
          "contourcarpet": [
           {
            "colorbar": {
             "outlinewidth": 0,
             "ticks": ""
            },
            "type": "contourcarpet"
           }
          ],
          "heatmap": [
           {
            "colorbar": {
             "outlinewidth": 0,
             "ticks": ""
            },
            "colorscale": [
             [
              0,
              "#0d0887"
             ],
             [
              0.1111111111111111,
              "#46039f"
             ],
             [
              0.2222222222222222,
              "#7201a8"
             ],
             [
              0.3333333333333333,
              "#9c179e"
             ],
             [
              0.4444444444444444,
              "#bd3786"
             ],
             [
              0.5555555555555556,
              "#d8576b"
             ],
             [
              0.6666666666666666,
              "#ed7953"
             ],
             [
              0.7777777777777778,
              "#fb9f3a"
             ],
             [
              0.8888888888888888,
              "#fdca26"
             ],
             [
              1,
              "#f0f921"
             ]
            ],
            "type": "heatmap"
           }
          ],
          "histogram": [
           {
            "marker": {
             "pattern": {
              "fillmode": "overlay",
              "size": 10,
              "solidity": 0.2
             }
            },
            "type": "histogram"
           }
          ],
          "histogram2d": [
           {
            "colorbar": {
             "outlinewidth": 0,
             "ticks": ""
            },
            "colorscale": [
             [
              0,
              "#0d0887"
             ],
             [
              0.1111111111111111,
              "#46039f"
             ],
             [
              0.2222222222222222,
              "#7201a8"
             ],
             [
              0.3333333333333333,
              "#9c179e"
             ],
             [
              0.4444444444444444,
              "#bd3786"
             ],
             [
              0.5555555555555556,
              "#d8576b"
             ],
             [
              0.6666666666666666,
              "#ed7953"
             ],
             [
              0.7777777777777778,
              "#fb9f3a"
             ],
             [
              0.8888888888888888,
              "#fdca26"
             ],
             [
              1,
              "#f0f921"
             ]
            ],
            "type": "histogram2d"
           }
          ],
          "histogram2dcontour": [
           {
            "colorbar": {
             "outlinewidth": 0,
             "ticks": ""
            },
            "colorscale": [
             [
              0,
              "#0d0887"
             ],
             [
              0.1111111111111111,
              "#46039f"
             ],
             [
              0.2222222222222222,
              "#7201a8"
             ],
             [
              0.3333333333333333,
              "#9c179e"
             ],
             [
              0.4444444444444444,
              "#bd3786"
             ],
             [
              0.5555555555555556,
              "#d8576b"
             ],
             [
              0.6666666666666666,
              "#ed7953"
             ],
             [
              0.7777777777777778,
              "#fb9f3a"
             ],
             [
              0.8888888888888888,
              "#fdca26"
             ],
             [
              1,
              "#f0f921"
             ]
            ],
            "type": "histogram2dcontour"
           }
          ],
          "mesh3d": [
           {
            "colorbar": {
             "outlinewidth": 0,
             "ticks": ""
            },
            "type": "mesh3d"
           }
          ],
          "parcoords": [
           {
            "line": {
             "colorbar": {
              "outlinewidth": 0,
              "ticks": ""
             }
            },
            "type": "parcoords"
           }
          ],
          "pie": [
           {
            "automargin": true,
            "type": "pie"
           }
          ],
          "scatter": [
           {
            "fillpattern": {
             "fillmode": "overlay",
             "size": 10,
             "solidity": 0.2
            },
            "type": "scatter"
           }
          ],
          "scatter3d": [
           {
            "line": {
             "colorbar": {
              "outlinewidth": 0,
              "ticks": ""
             }
            },
            "marker": {
             "colorbar": {
              "outlinewidth": 0,
              "ticks": ""
             }
            },
            "type": "scatter3d"
           }
          ],
          "scattercarpet": [
           {
            "marker": {
             "colorbar": {
              "outlinewidth": 0,
              "ticks": ""
             }
            },
            "type": "scattercarpet"
           }
          ],
          "scattergeo": [
           {
            "marker": {
             "colorbar": {
              "outlinewidth": 0,
              "ticks": ""
             }
            },
            "type": "scattergeo"
           }
          ],
          "scattergl": [
           {
            "marker": {
             "colorbar": {
              "outlinewidth": 0,
              "ticks": ""
             }
            },
            "type": "scattergl"
           }
          ],
          "scattermap": [
           {
            "marker": {
             "colorbar": {
              "outlinewidth": 0,
              "ticks": ""
             }
            },
            "type": "scattermap"
           }
          ],
          "scattermapbox": [
           {
            "marker": {
             "colorbar": {
              "outlinewidth": 0,
              "ticks": ""
             }
            },
            "type": "scattermapbox"
           }
          ],
          "scatterpolar": [
           {
            "marker": {
             "colorbar": {
              "outlinewidth": 0,
              "ticks": ""
             }
            },
            "type": "scatterpolar"
           }
          ],
          "scatterpolargl": [
           {
            "marker": {
             "colorbar": {
              "outlinewidth": 0,
              "ticks": ""
             }
            },
            "type": "scatterpolargl"
           }
          ],
          "scatterternary": [
           {
            "marker": {
             "colorbar": {
              "outlinewidth": 0,
              "ticks": ""
             }
            },
            "type": "scatterternary"
           }
          ],
          "surface": [
           {
            "colorbar": {
             "outlinewidth": 0,
             "ticks": ""
            },
            "colorscale": [
             [
              0,
              "#0d0887"
             ],
             [
              0.1111111111111111,
              "#46039f"
             ],
             [
              0.2222222222222222,
              "#7201a8"
             ],
             [
              0.3333333333333333,
              "#9c179e"
             ],
             [
              0.4444444444444444,
              "#bd3786"
             ],
             [
              0.5555555555555556,
              "#d8576b"
             ],
             [
              0.6666666666666666,
              "#ed7953"
             ],
             [
              0.7777777777777778,
              "#fb9f3a"
             ],
             [
              0.8888888888888888,
              "#fdca26"
             ],
             [
              1,
              "#f0f921"
             ]
            ],
            "type": "surface"
           }
          ],
          "table": [
           {
            "cells": {
             "fill": {
              "color": "#EBF0F8"
             },
             "line": {
              "color": "white"
             }
            },
            "header": {
             "fill": {
              "color": "#C8D4E3"
             },
             "line": {
              "color": "white"
             }
            },
            "type": "table"
           }
          ]
         },
         "layout": {
          "annotationdefaults": {
           "arrowcolor": "#2a3f5f",
           "arrowhead": 0,
           "arrowwidth": 1
          },
          "autotypenumbers": "strict",
          "coloraxis": {
           "colorbar": {
            "outlinewidth": 0,
            "ticks": ""
           }
          },
          "colorscale": {
           "diverging": [
            [
             0,
             "#8e0152"
            ],
            [
             0.1,
             "#c51b7d"
            ],
            [
             0.2,
             "#de77ae"
            ],
            [
             0.3,
             "#f1b6da"
            ],
            [
             0.4,
             "#fde0ef"
            ],
            [
             0.5,
             "#f7f7f7"
            ],
            [
             0.6,
             "#e6f5d0"
            ],
            [
             0.7,
             "#b8e186"
            ],
            [
             0.8,
             "#7fbc41"
            ],
            [
             0.9,
             "#4d9221"
            ],
            [
             1,
             "#276419"
            ]
           ],
           "sequential": [
            [
             0,
             "#0d0887"
            ],
            [
             0.1111111111111111,
             "#46039f"
            ],
            [
             0.2222222222222222,
             "#7201a8"
            ],
            [
             0.3333333333333333,
             "#9c179e"
            ],
            [
             0.4444444444444444,
             "#bd3786"
            ],
            [
             0.5555555555555556,
             "#d8576b"
            ],
            [
             0.6666666666666666,
             "#ed7953"
            ],
            [
             0.7777777777777778,
             "#fb9f3a"
            ],
            [
             0.8888888888888888,
             "#fdca26"
            ],
            [
             1,
             "#f0f921"
            ]
           ],
           "sequentialminus": [
            [
             0,
             "#0d0887"
            ],
            [
             0.1111111111111111,
             "#46039f"
            ],
            [
             0.2222222222222222,
             "#7201a8"
            ],
            [
             0.3333333333333333,
             "#9c179e"
            ],
            [
             0.4444444444444444,
             "#bd3786"
            ],
            [
             0.5555555555555556,
             "#d8576b"
            ],
            [
             0.6666666666666666,
             "#ed7953"
            ],
            [
             0.7777777777777778,
             "#fb9f3a"
            ],
            [
             0.8888888888888888,
             "#fdca26"
            ],
            [
             1,
             "#f0f921"
            ]
           ]
          },
          "colorway": [
           "#636efa",
           "#EF553B",
           "#00cc96",
           "#ab63fa",
           "#FFA15A",
           "#19d3f3",
           "#FF6692",
           "#B6E880",
           "#FF97FF",
           "#FECB52"
          ],
          "font": {
           "color": "#2a3f5f"
          },
          "geo": {
           "bgcolor": "white",
           "lakecolor": "white",
           "landcolor": "#E5ECF6",
           "showlakes": true,
           "showland": true,
           "subunitcolor": "white"
          },
          "hoverlabel": {
           "align": "left"
          },
          "hovermode": "closest",
          "mapbox": {
           "style": "light"
          },
          "paper_bgcolor": "white",
          "plot_bgcolor": "#E5ECF6",
          "polar": {
           "angularaxis": {
            "gridcolor": "white",
            "linecolor": "white",
            "ticks": ""
           },
           "bgcolor": "#E5ECF6",
           "radialaxis": {
            "gridcolor": "white",
            "linecolor": "white",
            "ticks": ""
           }
          },
          "scene": {
           "xaxis": {
            "backgroundcolor": "#E5ECF6",
            "gridcolor": "white",
            "gridwidth": 2,
            "linecolor": "white",
            "showbackground": true,
            "ticks": "",
            "zerolinecolor": "white"
           },
           "yaxis": {
            "backgroundcolor": "#E5ECF6",
            "gridcolor": "white",
            "gridwidth": 2,
            "linecolor": "white",
            "showbackground": true,
            "ticks": "",
            "zerolinecolor": "white"
           },
           "zaxis": {
            "backgroundcolor": "#E5ECF6",
            "gridcolor": "white",
            "gridwidth": 2,
            "linecolor": "white",
            "showbackground": true,
            "ticks": "",
            "zerolinecolor": "white"
           }
          },
          "shapedefaults": {
           "line": {
            "color": "#2a3f5f"
           }
          },
          "ternary": {
           "aaxis": {
            "gridcolor": "white",
            "linecolor": "white",
            "ticks": ""
           },
           "baxis": {
            "gridcolor": "white",
            "linecolor": "white",
            "ticks": ""
           },
           "bgcolor": "#E5ECF6",
           "caxis": {
            "gridcolor": "white",
            "linecolor": "white",
            "ticks": ""
           }
          },
          "title": {
           "x": 0.05
          },
          "xaxis": {
           "automargin": true,
           "gridcolor": "white",
           "linecolor": "white",
           "ticks": "",
           "title": {
            "standoff": 15
           },
           "zerolinecolor": "white",
           "zerolinewidth": 2
          },
          "yaxis": {
           "automargin": true,
           "gridcolor": "white",
           "linecolor": "white",
           "ticks": "",
           "title": {
            "standoff": 15
           },
           "zerolinecolor": "white",
           "zerolinewidth": 2
          }
         }
        },
        "title": {
         "text": "Calibration Curve - RO_Week_1_Data.xlsx"
        },
        "width": 600,
        "xaxis": {
         "gridcolor": "gray",
         "gridwidth": 1,
         "linecolor": "black",
         "linewidth": 2,
         "mirror": true,
         "showgrid": true,
         "tickfont": {
          "size": 14
         },
         "title": {
          "font": {
           "size": 18
          },
          "text": "Conductivity (mS)"
         }
        },
        "yaxis": {
         "gridcolor": "gray",
         "gridwidth": 1,
         "linecolor": "black",
         "linewidth": 2,
         "mirror": true,
         "showgrid": true,
         "tickfont": {
          "size": 14
         },
         "title": {
          "font": {
           "size": 18
          },
          "text": "Concentration (g/L)"
         }
        }
       }
      }
     },
     "metadata": {},
     "output_type": "display_data"
    },
    {
     "data": {
      "application/vnd.plotly.v1+json": {
       "config": {
        "plotlyServerURL": "https://plot.ly"
       },
       "data": [
        {
         "marker": {
          "color": "red",
          "symbol": "x"
         },
         "mode": "markers",
         "name": "Runs 0-4",
         "type": "scatter",
         "x": {
          "bdata": "mpmZmZmZmT/WxW00gLfiP9NNYhBYOfI/I9v5fmq8+j/D9Shcj8IBQI0o7Q2+MJk/k6mCUUmd4j9qvHSTGATyP6RwPQrXo/o/w/UoXI/CAUCNKO0NvjCZP5eQD3o2q+I/f2q8dJMY8j/6fmq8dJP6P/hT46WbxAFA",
          "dtype": "f8"
         },
         "y": {
          "bdata": "AAAAAAAAAAAAAAAAAADQPwAAAAAAAOA/AAAAAAAA6D8AAAAAAADwPwAAAAAAAAAAAAAAAAAA0D8AAAAAAADgPwAAAAAAAOg/AAAAAAAA8D8AAAAAAAAAAAAAAAAAANA/AAAAAAAA4D8AAAAAAADoPwAAAAAAAPA/",
          "dtype": "f8"
         }
        },
        {
         "error_y": {
          "array": {
           "bdata": "gKX+JTccFz+AzVg1fuVgP4CYSRmbc3A/AG0KW78ieD/AdfXbXwiAPwClfVSOvRY/AI34ANTNYD+AFuZeiUNwPwAx8MmPDHg/wHX1218IgD8ApX1Ujr0WPwCvy2xm2mA/gEjRVwZWcD8ACTRpxf13P8D6DCg5CoA/",
           "dtype": "f8"
          },
          "arrayminus": {
           "bdata": "gKX+JTccFz+AzVg1fuVgP4CYSRmbc3A/AG0KW78ieD8AdvXbXwiAPwClfVSOvRY/AI34ANTNYD+AFuZeiUNwPwAx8MmPDHg/AHb1218IgD8ApX1Ujr0WPwCvy2xm2mA/gEjRVwZWcD8ACTRpxf13PwD7DCg5CoA/",
           "dtype": "f8"
          },
          "color": "black",
          "symmetric": false,
          "type": "data",
          "visible": true
         },
         "line": {
          "color": "black"
         },
         "mode": "lines",
         "name": "OLS Model (Runs 0-4)",
         "type": "scatter",
         "x": {
          "bdata": "mpmZmZmZmT/WxW00gLfiP9NNYhBYOfI/I9v5fmq8+j/D9Shcj8IBQI0o7Q2+MJk/k6mCUUmd4j9qvHSTGATyP6RwPQrXo/o/w/UoXI/CAUCNKO0NvjCZP5eQD3o2q+I/f2q8dJMY8j/6fmq8dJP6P/hT46WbxAFA",
          "dtype": "f8"
         },
         "y": {
          "bdata": "mJBg1FP0hj/Q7Tl1VMjQPzbIi+o1V+A/7mjX6Bb55z8HL3mDZ9nvP15nb2ROloY/gaM9GdOw0D9HUbMndyfgP0XjmqIN4+c/By95g2fZ7z9eZ29kTpaGP/uqG9JPvdA/VGuQN9Q54D/UNB3JXNTnP6Oa2LkT3e8/",
          "dtype": "f8"
         }
        },
        {
         "marker": {
          "color": "blue",
          "symbol": "circle"
         },
         "mode": "markers",
         "name": "Runs 5-8",
         "type": "scatter",
         "x": {
          "bdata": "KVyPwvUoEUC4HoXrUbgYQB+F61G4Hh9AmpmZmZkZI0AK16NwPQoRQI/C9ShcjxhAMzMzMzMzH0CamZmZmRkjQPYoXI/C9RBApHA9CtejGEAzMzMzMzMfQIXrUbgeBSNA",
          "dtype": "f8"
         },
         "y": {
          "bdata": "AAAAAAAAAEAAAAAAAAAIQAAAAAAAABBAAAAAAAAAFEAAAAAAAAAAQAAAAAAAAAhAAAAAAAAAEEAAAAAAAAAUQAAAAAAAAABAAAAAAAAACEAAAAAAAAAQQAAAAAAAABRA",
          "dtype": "f8"
         }
        },
        {
         "error_y": {
          "array": {
           "bdata": "AK50w+K6qj9gdL+3ykCzP6Cajb/aPLg/QHWWrn/AvT+AjPaPCIuqP2CzwOrjILM/IPsMJs5MuD9AdZauf8C9P4DL98Iha6o/4BNAUdcwsz8g+wwmzky4P0C0l+GYoL0/",
           "dtype": "f8"
          },
          "arrayminus": {
           "bdata": "AK50w+K6qj9gdL+3ykCzP8Cajb/aPLg/QHWWrn/AvT+AjPaPCIuqP2CzwOrjILM/QPsMJs5MuD9AdZauf8C9P4DL98Iha6o/4BNAUdcwsz9A+wwmzky4P0C0l+GYoL0/",
           "dtype": "f8"
          },
          "color": "blue",
          "symmetric": false,
          "type": "data",
          "visible": true
         },
         "line": {
          "color": "blue"
         },
         "mode": "lines",
         "name": "OLS Model (Runs 5-8)",
         "type": "scatter",
         "x": {
          "bdata": "KVyPwvUoEUC4HoXrUbgYQB+F61G4Hh9AmpmZmZkZI0AK16NwPQoRQI/C9ShcjxhAMzMzMzMzH0CamZmZmRkjQPYoXI/C9RBApHA9CtejGEAzMzMzMzMfQIXrUbgeBSNA",
          "dtype": "f8"
         },
         "y": {
          "bdata": "MxHeFdN7AUBBLuj5sC8JQFkmIBv/tA9AZwgjK9V1E0CLBKVrhlwBQA3IRmz1BQlAc9nw4dzJD0BnCCMr1XUTQHJR1KSoRwFAKHsXM9MaCUBz2fDh3MkPQExVUmT3YBNA",
          "dtype": "f8"
         }
        }
       ],
       "layout": {
        "annotations": [
         {
          "bgcolor": "white",
          "font": {
           "color": "black",
           "size": 14
          },
          "text": "<b>y = 0.4483x</b> (Runs 0-4)",
          "x": 2.221,
          "xanchor": "right",
          "y": 0.9957369451338604,
          "yanchor": "bottom"
         },
         {
          "bgcolor": "white",
          "font": {
           "color": "blue",
           "size": 14
          },
          "text": "<b>y = 0.5094x</b> (Runs 5-8)",
          "x": 9.55,
          "xanchor": "right",
          "y": 4.865070985806688,
          "yanchor": "bottom"
         }
        ],
        "font": {
         "family": "Arial",
         "size": 14
        },
        "height": 600,
        "margin": {
         "b": 60,
         "l": 60,
         "r": 30,
         "t": 30
        },
        "plot_bgcolor": "white",
        "template": {
         "data": {
          "bar": [
           {
            "error_x": {
             "color": "#2a3f5f"
            },
            "error_y": {
             "color": "#2a3f5f"
            },
            "marker": {
             "line": {
              "color": "#E5ECF6",
              "width": 0.5
             },
             "pattern": {
              "fillmode": "overlay",
              "size": 10,
              "solidity": 0.2
             }
            },
            "type": "bar"
           }
          ],
          "barpolar": [
           {
            "marker": {
             "line": {
              "color": "#E5ECF6",
              "width": 0.5
             },
             "pattern": {
              "fillmode": "overlay",
              "size": 10,
              "solidity": 0.2
             }
            },
            "type": "barpolar"
           }
          ],
          "carpet": [
           {
            "aaxis": {
             "endlinecolor": "#2a3f5f",
             "gridcolor": "white",
             "linecolor": "white",
             "minorgridcolor": "white",
             "startlinecolor": "#2a3f5f"
            },
            "baxis": {
             "endlinecolor": "#2a3f5f",
             "gridcolor": "white",
             "linecolor": "white",
             "minorgridcolor": "white",
             "startlinecolor": "#2a3f5f"
            },
            "type": "carpet"
           }
          ],
          "choropleth": [
           {
            "colorbar": {
             "outlinewidth": 0,
             "ticks": ""
            },
            "type": "choropleth"
           }
          ],
          "contour": [
           {
            "colorbar": {
             "outlinewidth": 0,
             "ticks": ""
            },
            "colorscale": [
             [
              0,
              "#0d0887"
             ],
             [
              0.1111111111111111,
              "#46039f"
             ],
             [
              0.2222222222222222,
              "#7201a8"
             ],
             [
              0.3333333333333333,
              "#9c179e"
             ],
             [
              0.4444444444444444,
              "#bd3786"
             ],
             [
              0.5555555555555556,
              "#d8576b"
             ],
             [
              0.6666666666666666,
              "#ed7953"
             ],
             [
              0.7777777777777778,
              "#fb9f3a"
             ],
             [
              0.8888888888888888,
              "#fdca26"
             ],
             [
              1,
              "#f0f921"
             ]
            ],
            "type": "contour"
           }
          ],
          "contourcarpet": [
           {
            "colorbar": {
             "outlinewidth": 0,
             "ticks": ""
            },
            "type": "contourcarpet"
           }
          ],
          "heatmap": [
           {
            "colorbar": {
             "outlinewidth": 0,
             "ticks": ""
            },
            "colorscale": [
             [
              0,
              "#0d0887"
             ],
             [
              0.1111111111111111,
              "#46039f"
             ],
             [
              0.2222222222222222,
              "#7201a8"
             ],
             [
              0.3333333333333333,
              "#9c179e"
             ],
             [
              0.4444444444444444,
              "#bd3786"
             ],
             [
              0.5555555555555556,
              "#d8576b"
             ],
             [
              0.6666666666666666,
              "#ed7953"
             ],
             [
              0.7777777777777778,
              "#fb9f3a"
             ],
             [
              0.8888888888888888,
              "#fdca26"
             ],
             [
              1,
              "#f0f921"
             ]
            ],
            "type": "heatmap"
           }
          ],
          "histogram": [
           {
            "marker": {
             "pattern": {
              "fillmode": "overlay",
              "size": 10,
              "solidity": 0.2
             }
            },
            "type": "histogram"
           }
          ],
          "histogram2d": [
           {
            "colorbar": {
             "outlinewidth": 0,
             "ticks": ""
            },
            "colorscale": [
             [
              0,
              "#0d0887"
             ],
             [
              0.1111111111111111,
              "#46039f"
             ],
             [
              0.2222222222222222,
              "#7201a8"
             ],
             [
              0.3333333333333333,
              "#9c179e"
             ],
             [
              0.4444444444444444,
              "#bd3786"
             ],
             [
              0.5555555555555556,
              "#d8576b"
             ],
             [
              0.6666666666666666,
              "#ed7953"
             ],
             [
              0.7777777777777778,
              "#fb9f3a"
             ],
             [
              0.8888888888888888,
              "#fdca26"
             ],
             [
              1,
              "#f0f921"
             ]
            ],
            "type": "histogram2d"
           }
          ],
          "histogram2dcontour": [
           {
            "colorbar": {
             "outlinewidth": 0,
             "ticks": ""
            },
            "colorscale": [
             [
              0,
              "#0d0887"
             ],
             [
              0.1111111111111111,
              "#46039f"
             ],
             [
              0.2222222222222222,
              "#7201a8"
             ],
             [
              0.3333333333333333,
              "#9c179e"
             ],
             [
              0.4444444444444444,
              "#bd3786"
             ],
             [
              0.5555555555555556,
              "#d8576b"
             ],
             [
              0.6666666666666666,
              "#ed7953"
             ],
             [
              0.7777777777777778,
              "#fb9f3a"
             ],
             [
              0.8888888888888888,
              "#fdca26"
             ],
             [
              1,
              "#f0f921"
             ]
            ],
            "type": "histogram2dcontour"
           }
          ],
          "mesh3d": [
           {
            "colorbar": {
             "outlinewidth": 0,
             "ticks": ""
            },
            "type": "mesh3d"
           }
          ],
          "parcoords": [
           {
            "line": {
             "colorbar": {
              "outlinewidth": 0,
              "ticks": ""
             }
            },
            "type": "parcoords"
           }
          ],
          "pie": [
           {
            "automargin": true,
            "type": "pie"
           }
          ],
          "scatter": [
           {
            "fillpattern": {
             "fillmode": "overlay",
             "size": 10,
             "solidity": 0.2
            },
            "type": "scatter"
           }
          ],
          "scatter3d": [
           {
            "line": {
             "colorbar": {
              "outlinewidth": 0,
              "ticks": ""
             }
            },
            "marker": {
             "colorbar": {
              "outlinewidth": 0,
              "ticks": ""
             }
            },
            "type": "scatter3d"
           }
          ],
          "scattercarpet": [
           {
            "marker": {
             "colorbar": {
              "outlinewidth": 0,
              "ticks": ""
             }
            },
            "type": "scattercarpet"
           }
          ],
          "scattergeo": [
           {
            "marker": {
             "colorbar": {
              "outlinewidth": 0,
              "ticks": ""
             }
            },
            "type": "scattergeo"
           }
          ],
          "scattergl": [
           {
            "marker": {
             "colorbar": {
              "outlinewidth": 0,
              "ticks": ""
             }
            },
            "type": "scattergl"
           }
          ],
          "scattermap": [
           {
            "marker": {
             "colorbar": {
              "outlinewidth": 0,
              "ticks": ""
             }
            },
            "type": "scattermap"
           }
          ],
          "scattermapbox": [
           {
            "marker": {
             "colorbar": {
              "outlinewidth": 0,
              "ticks": ""
             }
            },
            "type": "scattermapbox"
           }
          ],
          "scatterpolar": [
           {
            "marker": {
             "colorbar": {
              "outlinewidth": 0,
              "ticks": ""
             }
            },
            "type": "scatterpolar"
           }
          ],
          "scatterpolargl": [
           {
            "marker": {
             "colorbar": {
              "outlinewidth": 0,
              "ticks": ""
             }
            },
            "type": "scatterpolargl"
           }
          ],
          "scatterternary": [
           {
            "marker": {
             "colorbar": {
              "outlinewidth": 0,
              "ticks": ""
             }
            },
            "type": "scatterternary"
           }
          ],
          "surface": [
           {
            "colorbar": {
             "outlinewidth": 0,
             "ticks": ""
            },
            "colorscale": [
             [
              0,
              "#0d0887"
             ],
             [
              0.1111111111111111,
              "#46039f"
             ],
             [
              0.2222222222222222,
              "#7201a8"
             ],
             [
              0.3333333333333333,
              "#9c179e"
             ],
             [
              0.4444444444444444,
              "#bd3786"
             ],
             [
              0.5555555555555556,
              "#d8576b"
             ],
             [
              0.6666666666666666,
              "#ed7953"
             ],
             [
              0.7777777777777778,
              "#fb9f3a"
             ],
             [
              0.8888888888888888,
              "#fdca26"
             ],
             [
              1,
              "#f0f921"
             ]
            ],
            "type": "surface"
           }
          ],
          "table": [
           {
            "cells": {
             "fill": {
              "color": "#EBF0F8"
             },
             "line": {
              "color": "white"
             }
            },
            "header": {
             "fill": {
              "color": "#C8D4E3"
             },
             "line": {
              "color": "white"
             }
            },
            "type": "table"
           }
          ]
         },
         "layout": {
          "annotationdefaults": {
           "arrowcolor": "#2a3f5f",
           "arrowhead": 0,
           "arrowwidth": 1
          },
          "autotypenumbers": "strict",
          "coloraxis": {
           "colorbar": {
            "outlinewidth": 0,
            "ticks": ""
           }
          },
          "colorscale": {
           "diverging": [
            [
             0,
             "#8e0152"
            ],
            [
             0.1,
             "#c51b7d"
            ],
            [
             0.2,
             "#de77ae"
            ],
            [
             0.3,
             "#f1b6da"
            ],
            [
             0.4,
             "#fde0ef"
            ],
            [
             0.5,
             "#f7f7f7"
            ],
            [
             0.6,
             "#e6f5d0"
            ],
            [
             0.7,
             "#b8e186"
            ],
            [
             0.8,
             "#7fbc41"
            ],
            [
             0.9,
             "#4d9221"
            ],
            [
             1,
             "#276419"
            ]
           ],
           "sequential": [
            [
             0,
             "#0d0887"
            ],
            [
             0.1111111111111111,
             "#46039f"
            ],
            [
             0.2222222222222222,
             "#7201a8"
            ],
            [
             0.3333333333333333,
             "#9c179e"
            ],
            [
             0.4444444444444444,
             "#bd3786"
            ],
            [
             0.5555555555555556,
             "#d8576b"
            ],
            [
             0.6666666666666666,
             "#ed7953"
            ],
            [
             0.7777777777777778,
             "#fb9f3a"
            ],
            [
             0.8888888888888888,
             "#fdca26"
            ],
            [
             1,
             "#f0f921"
            ]
           ],
           "sequentialminus": [
            [
             0,
             "#0d0887"
            ],
            [
             0.1111111111111111,
             "#46039f"
            ],
            [
             0.2222222222222222,
             "#7201a8"
            ],
            [
             0.3333333333333333,
             "#9c179e"
            ],
            [
             0.4444444444444444,
             "#bd3786"
            ],
            [
             0.5555555555555556,
             "#d8576b"
            ],
            [
             0.6666666666666666,
             "#ed7953"
            ],
            [
             0.7777777777777778,
             "#fb9f3a"
            ],
            [
             0.8888888888888888,
             "#fdca26"
            ],
            [
             1,
             "#f0f921"
            ]
           ]
          },
          "colorway": [
           "#636efa",
           "#EF553B",
           "#00cc96",
           "#ab63fa",
           "#FFA15A",
           "#19d3f3",
           "#FF6692",
           "#B6E880",
           "#FF97FF",
           "#FECB52"
          ],
          "font": {
           "color": "#2a3f5f"
          },
          "geo": {
           "bgcolor": "white",
           "lakecolor": "white",
           "landcolor": "#E5ECF6",
           "showlakes": true,
           "showland": true,
           "subunitcolor": "white"
          },
          "hoverlabel": {
           "align": "left"
          },
          "hovermode": "closest",
          "mapbox": {
           "style": "light"
          },
          "paper_bgcolor": "white",
          "plot_bgcolor": "#E5ECF6",
          "polar": {
           "angularaxis": {
            "gridcolor": "white",
            "linecolor": "white",
            "ticks": ""
           },
           "bgcolor": "#E5ECF6",
           "radialaxis": {
            "gridcolor": "white",
            "linecolor": "white",
            "ticks": ""
           }
          },
          "scene": {
           "xaxis": {
            "backgroundcolor": "#E5ECF6",
            "gridcolor": "white",
            "gridwidth": 2,
            "linecolor": "white",
            "showbackground": true,
            "ticks": "",
            "zerolinecolor": "white"
           },
           "yaxis": {
            "backgroundcolor": "#E5ECF6",
            "gridcolor": "white",
            "gridwidth": 2,
            "linecolor": "white",
            "showbackground": true,
            "ticks": "",
            "zerolinecolor": "white"
           },
           "zaxis": {
            "backgroundcolor": "#E5ECF6",
            "gridcolor": "white",
            "gridwidth": 2,
            "linecolor": "white",
            "showbackground": true,
            "ticks": "",
            "zerolinecolor": "white"
           }
          },
          "shapedefaults": {
           "line": {
            "color": "#2a3f5f"
           }
          },
          "ternary": {
           "aaxis": {
            "gridcolor": "white",
            "linecolor": "white",
            "ticks": ""
           },
           "baxis": {
            "gridcolor": "white",
            "linecolor": "white",
            "ticks": ""
           },
           "bgcolor": "#E5ECF6",
           "caxis": {
            "gridcolor": "white",
            "linecolor": "white",
            "ticks": ""
           }
          },
          "title": {
           "x": 0.05
          },
          "xaxis": {
           "automargin": true,
           "gridcolor": "white",
           "linecolor": "white",
           "ticks": "",
           "title": {
            "standoff": 15
           },
           "zerolinecolor": "white",
           "zerolinewidth": 2
          },
          "yaxis": {
           "automargin": true,
           "gridcolor": "white",
           "linecolor": "white",
           "ticks": "",
           "title": {
            "standoff": 15
           },
           "zerolinecolor": "white",
           "zerolinewidth": 2
          }
         }
        },
        "title": {
         "text": "Calibration Curve - RO_Week_2_Data.xlsx"
        },
        "width": 600,
        "xaxis": {
         "gridcolor": "gray",
         "gridwidth": 1,
         "linecolor": "black",
         "linewidth": 2,
         "mirror": true,
         "showgrid": true,
         "tickfont": {
          "size": 14
         },
         "title": {
          "font": {
           "size": 18
          },
          "text": "Conductivity (mS)"
         }
        },
        "yaxis": {
         "gridcolor": "gray",
         "gridwidth": 1,
         "linecolor": "black",
         "linewidth": 2,
         "mirror": true,
         "showgrid": true,
         "tickfont": {
          "size": 14
         },
         "title": {
          "font": {
           "size": 18
          },
          "text": "Concentration (g/L)"
         }
        }
       }
      }
     },
     "metadata": {},
     "output_type": "display_data"
    }
   ],
   "source": [
    "import pandas as pd\n",
    "import numpy as np\n",
    "import statsmodels.api as sm\n",
    "import plotly.graph_objects as go\n",
    "\n",
    "def plot_calibration(fileName):\n",
    "    # Load data from Excel\n",
    "    df = pd.read_excel(fileName, sheet_name=\"Results\")\n",
    "\n",
    "    # Independent variable (Conductivity)\n",
    "    x1 = df[\"Conductivity_A_(mS)\"]\n",
    "    x2 = df[\"Conductivity_B_(mS)\"]\n",
    "    x3 = df[\"Conductivity_C_(mS)\"]\n",
    "\n",
    "    # Dependent variable (Concentration)\n",
    "    y_from_excel = df[\"Concentration_(g/L)\"]\n",
    "\n",
    "    # Run number column (assuming it's named \"Run\" in Excel)\n",
    "    run_numbers = df[\"Run\"]\n",
    "\n",
    "    # Concatenate x values and replicate y values\n",
    "    x_data = np.concatenate([x1, x2, x3])  # Conductivity\n",
    "    y_data = np.tile(y_from_excel, 3)  # Concentration\n",
    "    run_data = np.tile(run_numbers, 3)  # Repeat run numbers\n",
    "\n",
    "    # Split data into two groups based on run number\n",
    "    mask_group1 = (run_data >= 0) & (run_data <= 4)  # Runs 0-4\n",
    "    mask_group2 = (run_data >= 5) & (run_data <= 8)  # Runs 5-8\n",
    "\n",
    "    x_data_group1, y_data_group1 = x_data[mask_group1], y_data[mask_group1]\n",
    "    x_data_group2, y_data_group2 = x_data[mask_group2], y_data[mask_group2]\n",
    "\n",
    "    # Fit separate OLS models (forcing zero intercept)\n",
    "    def fit_model(x, y):\n",
    "        X = x[:, np.newaxis]  # Reshape for OLS\n",
    "        model = sm.OLS(y, X).fit()\n",
    "        return model\n",
    "\n",
    "    model_group1 = fit_model(x_data_group1, y_data_group1)\n",
    "    model_group2 = fit_model(x_data_group2, y_data_group2)\n",
    "\n",
    "    # Get confidence intervals\n",
    "    def get_conf_intervals(model, X):\n",
    "        pred = model.get_prediction(X)\n",
    "        pred_summary = pred.summary_frame(alpha=0.05)  # 95% CI\n",
    "        return pred_summary['mean_ci_lower'], pred_summary['mean_ci_upper']\n",
    "\n",
    "    ci_lower_group1, ci_upper_group1 = get_conf_intervals(model_group1, x_data_group1[:, np.newaxis])\n",
    "    ci_lower_group2, ci_upper_group2 = get_conf_intervals(model_group2, x_data_group2[:, np.newaxis])\n",
    "\n",
    "    # Create plotly figure\n",
    "    fig = go.Figure()\n",
    "\n",
    "    # Plot Group 1 (Runs 0-4)\n",
    "    fig.add_trace(go.Scatter(x=x_data_group1, y=y_data_group1, mode=\"markers\",\n",
    "                             marker=dict(symbol=\"x\", color=\"red\"), name=\"Runs 0-4\"))\n",
    "\n",
    "    fig.add_trace(go.Scatter(\n",
    "        x=x_data_group1,\n",
    "        y=model_group1.fittedvalues,\n",
    "        mode='lines',\n",
    "        name='OLS Model (Runs 0-4)',\n",
    "        line=dict(color=\"black\"),\n",
    "        error_y=dict(\n",
    "            type='data',\n",
    "            symmetric=False,\n",
    "            array=ci_upper_group1 - model_group1.fittedvalues,\n",
    "            arrayminus=model_group1.fittedvalues - ci_lower_group1,\n",
    "            visible=True,\n",
    "            color=\"black\"\n",
    "        )\n",
    "    ))\n",
    "\n",
    "    # Plot Group 2 (Runs 5-8)\n",
    "    fig.add_trace(go.Scatter(x=x_data_group2, y=y_data_group2, mode=\"markers\",\n",
    "                             marker=dict(symbol=\"circle\", color=\"blue\"), name=\"Runs 5-8\"))\n",
    "\n",
    "    fig.add_trace(go.Scatter(\n",
    "        x=x_data_group2,\n",
    "        y=model_group2.fittedvalues,\n",
    "        mode='lines',\n",
    "        name='OLS Model (Runs 5-8)',\n",
    "        line=dict(color=\"blue\"),\n",
    "        error_y=dict(\n",
    "            type='data',\n",
    "            symmetric=False,\n",
    "            array=ci_upper_group2 - model_group2.fittedvalues,\n",
    "            arrayminus=model_group2.fittedvalues - ci_lower_group2,\n",
    "            visible=True,\n",
    "            color=\"blue\"\n",
    "        )\n",
    "    ))\n",
    "\n",
    "    # Extract slopes for equation display\n",
    "    slope_group1 = model_group1.params[0]\n",
    "    slope_group2 = model_group2.params[0]\n",
    "\n",
    "    # Add equation annotations\n",
    "    fig.add_annotation(\n",
    "        x=x_data_group1.max(),\n",
    "        y=slope_group1 * x_data_group1.max(),\n",
    "        text=f\"<b>y = {slope_group1:.4f}x</b> (Runs 0-4)\",\n",
    "        font=dict(size=14, color=\"black\"),\n",
    "        xanchor=\"right\",\n",
    "        yanchor=\"bottom\",\n",
    "        bgcolor=\"white\"\n",
    "    )\n",
    "\n",
    "    fig.add_annotation(\n",
    "        x=x_data_group2.max(),\n",
    "        y=slope_group2 * x_data_group2.max(),\n",
    "        text=f\"<b>y = {slope_group2:.4f}x</b> (Runs 5-8)\",\n",
    "        font=dict(size=14, color=\"blue\"),\n",
    "        xanchor=\"right\",\n",
    "        yanchor=\"bottom\",\n",
    "        bgcolor=\"white\"\n",
    "    )\n",
    "\n",
    "    # Update layout\n",
    "    fig.update_layout(\n",
    "        xaxis=dict(\n",
    "            showgrid=True,\n",
    "            gridwidth=1,\n",
    "            gridcolor=\"gray\",\n",
    "            title=\"Conductivity (mS)\",  # X-axis\n",
    "            title_font=dict(size=18),\n",
    "            tickfont=dict(size=14),\n",
    "            linewidth=2,\n",
    "            linecolor=\"black\",\n",
    "            mirror=True\n",
    "        ),\n",
    "        yaxis=dict(\n",
    "            showgrid=True,\n",
    "            gridwidth=1,\n",
    "            gridcolor=\"gray\",\n",
    "            title=\"Concentration (g/L)\",  # Y-axis\n",
    "            title_font=dict(size=18),\n",
    "            tickfont=dict(size=14),\n",
    "            linewidth=2,\n",
    "            linecolor=\"black\",\n",
    "            mirror=True\n",
    "        ),\n",
    "        title=f\"Calibration Curve - {fileName}\",\n",
    "        width=600,\n",
    "        height=600,\n",
    "        font=dict(family=\"Arial\", size=14),\n",
    "        plot_bgcolor=\"white\",\n",
    "        margin=dict(l=60, r=30, t=30, b=60)\n",
    "    )\n",
    "\n",
    "    fig.show()\n",
    "\n",
    "# Run the function for both files\n",
    "plot_calibration(\"RO_Week_1_Data.xlsx\")\n",
    "plot_calibration(\"RO_Week_2_Data.xlsx\")\n"
   ]
  }
 ],
 "metadata": {
  "kernelspec": {
   "display_name": "plotly_env_RO",
   "language": "python",
   "name": "python3"
  },
  "language_info": {
   "codemirror_mode": {
    "name": "ipython",
    "version": 3
   },
   "file_extension": ".py",
   "mimetype": "text/x-python",
   "name": "python",
   "nbconvert_exporter": "python",
   "pygments_lexer": "ipython3",
   "version": "3.13.2"
  }
 },
 "nbformat": 4,
 "nbformat_minor": 2
}
