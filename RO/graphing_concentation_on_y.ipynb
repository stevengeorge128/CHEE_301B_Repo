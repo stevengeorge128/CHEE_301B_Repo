{
 "cells": [
  {
   "cell_type": "code",
   "execution_count": 1,
   "metadata": {},
   "outputs": [
    {
     "data": {
      "application/vnd.plotly.v1+json": {
       "config": {
        "plotlyServerURL": "https://plot.ly"
       },
       "data": [
        {
         "marker": {
          "color": "red",
          "symbol": "x"
         },
         "mode": "markers",
         "name": "Run 1",
         "type": "scatter",
         "x": {
          "bdata": "P8bctYR84D97FK5H4XrwP6RwPQrXo/Y/HVpkO99P/z8K16NwPQoPQMP1KFyPwhZApHA9CtejHUD2KFyPwvUhQJqZmZmZmZk/",
          "dtype": "f8"
         },
         "y": {
          "bdata": "AAAAAAAA0D8AAAAAAADgPwAAAAAAAOg/AAAAAAAA8D8AAAAAAAAAQAAAAAAAAAhAAAAAAAAAEEAAAAAAAAAUQAAAAAAAAAAA",
          "dtype": "f8"
         }
        },
        {
         "marker": {
          "color": "blue",
          "symbol": "star"
         },
         "mode": "markers",
         "name": "Run 2",
         "type": "scatter",
         "x": {
          "bdata": "ak3zjlN04D8730+Nl27wP8/3U+Olm/Y/c2iR7Xw//z/2KFyPwvUOQK5H4XoUrhZApHA9CtejHUCF61G4HgUiQI0o7Q2+MJk/",
          "dtype": "f8"
         },
         "y": {
          "bdata": "AAAAAAAA0D8AAAAAAADgPwAAAAAAAOg/AAAAAAAA8D8AAAAAAAAAQAAAAAAAAAhAAAAAAAAAEEAAAAAAAAAUQAAAAAAAAAAA",
          "dtype": "f8"
         }
        },
        {
         "marker": {
          "color": "green",
          "symbol": "cross"
         },
         "mode": "markers",
         "name": "Run 3",
         "type": "scatter",
         "x": {
          "bdata": "ppvEILBy4D/RItv5fmrwP4/C9Shcj/Y/yXa+nxov/z/NzMzMzMwOQLgehetRuBZAZmZmZmZmHUBxPQrXo/AhQI0o7Q2+MJk/",
          "dtype": "f8"
         },
         "y": {
          "bdata": "AAAAAAAA0D8AAAAAAADgPwAAAAAAAOg/AAAAAAAA8D8AAAAAAAAAQAAAAAAAAAhAAAAAAAAAEEAAAAAAAAAUQAAAAAAAAAAA",
          "dtype": "f8"
         }
        },
        {
         "error_y": {
          "array": {
           "bdata": "gFLhbibPaD8AJk9Dr8x4P0AEMkreCIE/ADGLGUCPhz8A/Ki721qXPwBnrIL7H6E/ACgVfjFNpj8A/Blf1QarP0Da/GUEQyM/gHMGldLCaD8A14Z8Mbp4P8CURF20AoE/gFGwP+yChz8AZVfrckuXP8DPWrKSEKE/ACgVfjFNpj+AXpSX8h2rP4BFt/Me9CI/gEZ0aVvAaD+AZ5mPB7R4P0Bt4Hl1+YA/gHLVZZh2hz+ANrRKoSyXP4CbgxpHGKE/wGIgDfcepj+AMPH2IP+qP4BFt/Me9CI/",
           "dtype": "f8"
          },
          "arrayminus": {
           "bdata": "gFLhbibPaD8AJk9Dr8x4P0AEMkreCIE/ADGLGUCPhz8A/Ki721qXPwBnrIL7H6E/ACgVfjFNpj8A/Blf1QarP0Da/GUEQyM/gHMGldLCaD8A14Z8Mbp4P8CURF20AoE/gFGwP+yChz8AZVfrckuXP8DPWrKSEKE/ACgVfjFNpj+AXpSX8h2rP4BFt/Me9CI/gEZ0aVvAaD+AZ5mPB7R4P0Bt4Hl1+YA/gHLVZZh2hz+ANrRKoSyXP4CbgxpHGKE/wGIgDfcepj+AMPH2IP+qP4BFt/Me9CI/",
           "dtype": "f8"
          },
          "color": "black",
          "symmetric": false,
          "type": "data",
          "visible": true
         },
         "line": {
          "color": "black"
         },
         "mode": "lines",
         "name": "OLS Model",
         "type": "scatter",
         "x": {
          "bdata": "P8bctYR84D97FK5H4XrwP6RwPQrXo/Y/HVpkO99P/z8K16NwPQoPQMP1KFyPwhZApHA9CtejHUD2KFyPwvUhQJqZmZmZmZk/ak3zjlN04D8730+Nl27wP8/3U+Olm/Y/c2iR7Xw//z/2KFyPwvUOQK5H4XoUrhZApHA9CtejHUCF61G4HgUiQI0o7Q2+MJk/ppvEILBy4D/RItv5fmrwP4/C9Shcj/Y/yXa+nxov/z/NzMzMzMwOQLgehetRuBZAZmZmZmZmHUBxPQrXo/AhQI0o7Q2+MJk/",
          "dtype": "f8"
         },
         "y": {
          "bdata": "6vh4jDzj0T+xDCV4deHhP0OvrGVzkOg/Qv/v/pX88D+Ro/iOz9YAQGg80iLIsQhA6ZadP2EUEEDELvSUinwTQGjzSp+dxos/z1vVJlna0T8Joa9fINThPykSCQCQh+g/KGJMmbLz8D8vH+xPs8sAQKQzuaSPmwhA6ZadP2EUEEBW9YbzNI0TQEblT4rYVIs/l2+BEpLY0T980t2srs/hP4Cmk+c6eug/DcWoM8/q8D9tFtPRerUAQAa4xeOrpghAiRPwBBnmD0CT7G11/HYTQEblT4rYVIs/",
          "dtype": "f8"
         }
        }
       ],
       "layout": {
        "annotations": [
         {
          "align": "right",
          "bgcolor": "white",
          "font": {
           "color": "black",
           "size": 14
          },
          "text": "<b>y = 0.5425x</b>",
          "x": 8.51,
          "xanchor": "right",
          "y": 4.616648842465981,
          "yanchor": "bottom"
         }
        ],
        "font": {
         "family": "Arial",
         "size": 14
        },
        "height": 600,
        "margin": {
         "b": 60,
         "l": 60,
         "r": 30,
         "t": 30
        },
        "plot_bgcolor": "white",
        "template": {
         "data": {
          "bar": [
           {
            "error_x": {
             "color": "#2a3f5f"
            },
            "error_y": {
             "color": "#2a3f5f"
            },
            "marker": {
             "line": {
              "color": "#E5ECF6",
              "width": 0.5
             },
             "pattern": {
              "fillmode": "overlay",
              "size": 10,
              "solidity": 0.2
             }
            },
            "type": "bar"
           }
          ],
          "barpolar": [
           {
            "marker": {
             "line": {
              "color": "#E5ECF6",
              "width": 0.5
             },
             "pattern": {
              "fillmode": "overlay",
              "size": 10,
              "solidity": 0.2
             }
            },
            "type": "barpolar"
           }
          ],
          "carpet": [
           {
            "aaxis": {
             "endlinecolor": "#2a3f5f",
             "gridcolor": "white",
             "linecolor": "white",
             "minorgridcolor": "white",
             "startlinecolor": "#2a3f5f"
            },
            "baxis": {
             "endlinecolor": "#2a3f5f",
             "gridcolor": "white",
             "linecolor": "white",
             "minorgridcolor": "white",
             "startlinecolor": "#2a3f5f"
            },
            "type": "carpet"
           }
          ],
          "choropleth": [
           {
            "colorbar": {
             "outlinewidth": 0,
             "ticks": ""
            },
            "type": "choropleth"
           }
          ],
          "contour": [
           {
            "colorbar": {
             "outlinewidth": 0,
             "ticks": ""
            },
            "colorscale": [
             [
              0,
              "#0d0887"
             ],
             [
              0.1111111111111111,
              "#46039f"
             ],
             [
              0.2222222222222222,
              "#7201a8"
             ],
             [
              0.3333333333333333,
              "#9c179e"
             ],
             [
              0.4444444444444444,
              "#bd3786"
             ],
             [
              0.5555555555555556,
              "#d8576b"
             ],
             [
              0.6666666666666666,
              "#ed7953"
             ],
             [
              0.7777777777777778,
              "#fb9f3a"
             ],
             [
              0.8888888888888888,
              "#fdca26"
             ],
             [
              1,
              "#f0f921"
             ]
            ],
            "type": "contour"
           }
          ],
          "contourcarpet": [
           {
            "colorbar": {
             "outlinewidth": 0,
             "ticks": ""
            },
            "type": "contourcarpet"
           }
          ],
          "heatmap": [
           {
            "colorbar": {
             "outlinewidth": 0,
             "ticks": ""
            },
            "colorscale": [
             [
              0,
              "#0d0887"
             ],
             [
              0.1111111111111111,
              "#46039f"
             ],
             [
              0.2222222222222222,
              "#7201a8"
             ],
             [
              0.3333333333333333,
              "#9c179e"
             ],
             [
              0.4444444444444444,
              "#bd3786"
             ],
             [
              0.5555555555555556,
              "#d8576b"
             ],
             [
              0.6666666666666666,
              "#ed7953"
             ],
             [
              0.7777777777777778,
              "#fb9f3a"
             ],
             [
              0.8888888888888888,
              "#fdca26"
             ],
             [
              1,
              "#f0f921"
             ]
            ],
            "type": "heatmap"
           }
          ],
          "histogram": [
           {
            "marker": {
             "pattern": {
              "fillmode": "overlay",
              "size": 10,
              "solidity": 0.2
             }
            },
            "type": "histogram"
           }
          ],
          "histogram2d": [
           {
            "colorbar": {
             "outlinewidth": 0,
             "ticks": ""
            },
            "colorscale": [
             [
              0,
              "#0d0887"
             ],
             [
              0.1111111111111111,
              "#46039f"
             ],
             [
              0.2222222222222222,
              "#7201a8"
             ],
             [
              0.3333333333333333,
              "#9c179e"
             ],
             [
              0.4444444444444444,
              "#bd3786"
             ],
             [
              0.5555555555555556,
              "#d8576b"
             ],
             [
              0.6666666666666666,
              "#ed7953"
             ],
             [
              0.7777777777777778,
              "#fb9f3a"
             ],
             [
              0.8888888888888888,
              "#fdca26"
             ],
             [
              1,
              "#f0f921"
             ]
            ],
            "type": "histogram2d"
           }
          ],
          "histogram2dcontour": [
           {
            "colorbar": {
             "outlinewidth": 0,
             "ticks": ""
            },
            "colorscale": [
             [
              0,
              "#0d0887"
             ],
             [
              0.1111111111111111,
              "#46039f"
             ],
             [
              0.2222222222222222,
              "#7201a8"
             ],
             [
              0.3333333333333333,
              "#9c179e"
             ],
             [
              0.4444444444444444,
              "#bd3786"
             ],
             [
              0.5555555555555556,
              "#d8576b"
             ],
             [
              0.6666666666666666,
              "#ed7953"
             ],
             [
              0.7777777777777778,
              "#fb9f3a"
             ],
             [
              0.8888888888888888,
              "#fdca26"
             ],
             [
              1,
              "#f0f921"
             ]
            ],
            "type": "histogram2dcontour"
           }
          ],
          "mesh3d": [
           {
            "colorbar": {
             "outlinewidth": 0,
             "ticks": ""
            },
            "type": "mesh3d"
           }
          ],
          "parcoords": [
           {
            "line": {
             "colorbar": {
              "outlinewidth": 0,
              "ticks": ""
             }
            },
            "type": "parcoords"
           }
          ],
          "pie": [
           {
            "automargin": true,
            "type": "pie"
           }
          ],
          "scatter": [
           {
            "fillpattern": {
             "fillmode": "overlay",
             "size": 10,
             "solidity": 0.2
            },
            "type": "scatter"
           }
          ],
          "scatter3d": [
           {
            "line": {
             "colorbar": {
              "outlinewidth": 0,
              "ticks": ""
             }
            },
            "marker": {
             "colorbar": {
              "outlinewidth": 0,
              "ticks": ""
             }
            },
            "type": "scatter3d"
           }
          ],
          "scattercarpet": [
           {
            "marker": {
             "colorbar": {
              "outlinewidth": 0,
              "ticks": ""
             }
            },
            "type": "scattercarpet"
           }
          ],
          "scattergeo": [
           {
            "marker": {
             "colorbar": {
              "outlinewidth": 0,
              "ticks": ""
             }
            },
            "type": "scattergeo"
           }
          ],
          "scattergl": [
           {
            "marker": {
             "colorbar": {
              "outlinewidth": 0,
              "ticks": ""
             }
            },
            "type": "scattergl"
           }
          ],
          "scattermap": [
           {
            "marker": {
             "colorbar": {
              "outlinewidth": 0,
              "ticks": ""
             }
            },
            "type": "scattermap"
           }
          ],
          "scattermapbox": [
           {
            "marker": {
             "colorbar": {
              "outlinewidth": 0,
              "ticks": ""
             }
            },
            "type": "scattermapbox"
           }
          ],
          "scatterpolar": [
           {
            "marker": {
             "colorbar": {
              "outlinewidth": 0,
              "ticks": ""
             }
            },
            "type": "scatterpolar"
           }
          ],
          "scatterpolargl": [
           {
            "marker": {
             "colorbar": {
              "outlinewidth": 0,
              "ticks": ""
             }
            },
            "type": "scatterpolargl"
           }
          ],
          "scatterternary": [
           {
            "marker": {
             "colorbar": {
              "outlinewidth": 0,
              "ticks": ""
             }
            },
            "type": "scatterternary"
           }
          ],
          "surface": [
           {
            "colorbar": {
             "outlinewidth": 0,
             "ticks": ""
            },
            "colorscale": [
             [
              0,
              "#0d0887"
             ],
             [
              0.1111111111111111,
              "#46039f"
             ],
             [
              0.2222222222222222,
              "#7201a8"
             ],
             [
              0.3333333333333333,
              "#9c179e"
             ],
             [
              0.4444444444444444,
              "#bd3786"
             ],
             [
              0.5555555555555556,
              "#d8576b"
             ],
             [
              0.6666666666666666,
              "#ed7953"
             ],
             [
              0.7777777777777778,
              "#fb9f3a"
             ],
             [
              0.8888888888888888,
              "#fdca26"
             ],
             [
              1,
              "#f0f921"
             ]
            ],
            "type": "surface"
           }
          ],
          "table": [
           {
            "cells": {
             "fill": {
              "color": "#EBF0F8"
             },
             "line": {
              "color": "white"
             }
            },
            "header": {
             "fill": {
              "color": "#C8D4E3"
             },
             "line": {
              "color": "white"
             }
            },
            "type": "table"
           }
          ]
         },
         "layout": {
          "annotationdefaults": {
           "arrowcolor": "#2a3f5f",
           "arrowhead": 0,
           "arrowwidth": 1
          },
          "autotypenumbers": "strict",
          "coloraxis": {
           "colorbar": {
            "outlinewidth": 0,
            "ticks": ""
           }
          },
          "colorscale": {
           "diverging": [
            [
             0,
             "#8e0152"
            ],
            [
             0.1,
             "#c51b7d"
            ],
            [
             0.2,
             "#de77ae"
            ],
            [
             0.3,
             "#f1b6da"
            ],
            [
             0.4,
             "#fde0ef"
            ],
            [
             0.5,
             "#f7f7f7"
            ],
            [
             0.6,
             "#e6f5d0"
            ],
            [
             0.7,
             "#b8e186"
            ],
            [
             0.8,
             "#7fbc41"
            ],
            [
             0.9,
             "#4d9221"
            ],
            [
             1,
             "#276419"
            ]
           ],
           "sequential": [
            [
             0,
             "#0d0887"
            ],
            [
             0.1111111111111111,
             "#46039f"
            ],
            [
             0.2222222222222222,
             "#7201a8"
            ],
            [
             0.3333333333333333,
             "#9c179e"
            ],
            [
             0.4444444444444444,
             "#bd3786"
            ],
            [
             0.5555555555555556,
             "#d8576b"
            ],
            [
             0.6666666666666666,
             "#ed7953"
            ],
            [
             0.7777777777777778,
             "#fb9f3a"
            ],
            [
             0.8888888888888888,
             "#fdca26"
            ],
            [
             1,
             "#f0f921"
            ]
           ],
           "sequentialminus": [
            [
             0,
             "#0d0887"
            ],
            [
             0.1111111111111111,
             "#46039f"
            ],
            [
             0.2222222222222222,
             "#7201a8"
            ],
            [
             0.3333333333333333,
             "#9c179e"
            ],
            [
             0.4444444444444444,
             "#bd3786"
            ],
            [
             0.5555555555555556,
             "#d8576b"
            ],
            [
             0.6666666666666666,
             "#ed7953"
            ],
            [
             0.7777777777777778,
             "#fb9f3a"
            ],
            [
             0.8888888888888888,
             "#fdca26"
            ],
            [
             1,
             "#f0f921"
            ]
           ]
          },
          "colorway": [
           "#636efa",
           "#EF553B",
           "#00cc96",
           "#ab63fa",
           "#FFA15A",
           "#19d3f3",
           "#FF6692",
           "#B6E880",
           "#FF97FF",
           "#FECB52"
          ],
          "font": {
           "color": "#2a3f5f"
          },
          "geo": {
           "bgcolor": "white",
           "lakecolor": "white",
           "landcolor": "#E5ECF6",
           "showlakes": true,
           "showland": true,
           "subunitcolor": "white"
          },
          "hoverlabel": {
           "align": "left"
          },
          "hovermode": "closest",
          "mapbox": {
           "style": "light"
          },
          "paper_bgcolor": "white",
          "plot_bgcolor": "#E5ECF6",
          "polar": {
           "angularaxis": {
            "gridcolor": "white",
            "linecolor": "white",
            "ticks": ""
           },
           "bgcolor": "#E5ECF6",
           "radialaxis": {
            "gridcolor": "white",
            "linecolor": "white",
            "ticks": ""
           }
          },
          "scene": {
           "xaxis": {
            "backgroundcolor": "#E5ECF6",
            "gridcolor": "white",
            "gridwidth": 2,
            "linecolor": "white",
            "showbackground": true,
            "ticks": "",
            "zerolinecolor": "white"
           },
           "yaxis": {
            "backgroundcolor": "#E5ECF6",
            "gridcolor": "white",
            "gridwidth": 2,
            "linecolor": "white",
            "showbackground": true,
            "ticks": "",
            "zerolinecolor": "white"
           },
           "zaxis": {
            "backgroundcolor": "#E5ECF6",
            "gridcolor": "white",
            "gridwidth": 2,
            "linecolor": "white",
            "showbackground": true,
            "ticks": "",
            "zerolinecolor": "white"
           }
          },
          "shapedefaults": {
           "line": {
            "color": "#2a3f5f"
           }
          },
          "ternary": {
           "aaxis": {
            "gridcolor": "white",
            "linecolor": "white",
            "ticks": ""
           },
           "baxis": {
            "gridcolor": "white",
            "linecolor": "white",
            "ticks": ""
           },
           "bgcolor": "#E5ECF6",
           "caxis": {
            "gridcolor": "white",
            "linecolor": "white",
            "ticks": ""
           }
          },
          "title": {
           "x": 0.05
          },
          "xaxis": {
           "automargin": true,
           "gridcolor": "white",
           "linecolor": "white",
           "ticks": "",
           "title": {
            "standoff": 15
           },
           "zerolinecolor": "white",
           "zerolinewidth": 2
          },
          "yaxis": {
           "automargin": true,
           "gridcolor": "white",
           "linecolor": "white",
           "ticks": "",
           "title": {
            "standoff": 15
           },
           "zerolinecolor": "white",
           "zerolinewidth": 2
          }
         }
        },
        "title": {
         "text": "Calibration Curve - RO_Week_1_Data.xlsx"
        },
        "width": 600,
        "xaxis": {
         "gridcolor": "gray",
         "gridwidth": 1,
         "linecolor": "black",
         "linewidth": 2,
         "mirror": true,
         "showgrid": true,
         "tickfont": {
          "size": 14
         },
         "title": {
          "font": {
           "size": 18
          },
          "text": "Conductivity (mS)"
         }
        },
        "yaxis": {
         "gridcolor": "gray",
         "gridwidth": 1,
         "linecolor": "black",
         "linewidth": 2,
         "mirror": true,
         "showgrid": true,
         "tickfont": {
          "size": 14
         },
         "title": {
          "font": {
           "size": 18
          },
          "text": "Concentration (g/L)"
         }
        }
       }
      }
     },
     "metadata": {},
     "output_type": "display_data"
    },
    {
     "data": {
      "application/vnd.plotly.v1+json": {
       "config": {
        "plotlyServerURL": "https://plot.ly"
       },
       "data": [
        {
         "marker": {
          "color": "red",
          "symbol": "x"
         },
         "mode": "markers",
         "name": "Run 1",
         "type": "scatter",
         "x": {
          "bdata": "1sVtNIC34j/TTWIQWDnyPyPb+X5qvPo/w/UoXI/CAUApXI/C9SgRQLgehetRuBhAH4XrUbgeH0CamZmZmRkjQJqZmZmZmZk/",
          "dtype": "f8"
         },
         "y": {
          "bdata": "AAAAAAAA0D8AAAAAAADgPwAAAAAAAOg/AAAAAAAA8D8AAAAAAAAAQAAAAAAAAAhAAAAAAAAAEEAAAAAAAAAUQAAAAAAAAAAA",
          "dtype": "f8"
         }
        },
        {
         "marker": {
          "color": "blue",
          "symbol": "star"
         },
         "mode": "markers",
         "name": "Run 2",
         "type": "scatter",
         "x": {
          "bdata": "k6mCUUmd4j9qvHSTGATyP6RwPQrXo/o/w/UoXI/CAUAK16NwPQoRQI/C9ShcjxhAMzMzMzMzH0CamZmZmRkjQI0o7Q2+MJk/",
          "dtype": "f8"
         },
         "y": {
          "bdata": "AAAAAAAA0D8AAAAAAADgPwAAAAAAAOg/AAAAAAAA8D8AAAAAAAAAQAAAAAAAAAhAAAAAAAAAEEAAAAAAAAAUQAAAAAAAAAAA",
          "dtype": "f8"
         }
        },
        {
         "marker": {
          "color": "green",
          "symbol": "cross"
         },
         "mode": "markers",
         "name": "Run 3",
         "type": "scatter",
         "x": {
          "bdata": "l5APejar4j9/arx0kxjyP/p+arx0k/o/+FPjpZvEAUD2KFyPwvUQQKRwPQrXoxhAMzMzMzMzH0CF61G4HgUjQI0o7Q2+MJk/",
          "dtype": "f8"
         },
         "y": {
          "bdata": "AAAAAAAA0D8AAAAAAADgPwAAAAAAAOg/AAAAAAAA8D8AAAAAAAAAQAAAAAAAAAhAAAAAAAAAEEAAAAAAAAAUQAAAAAAAAAAA",
          "dtype": "f8"
         }
        },
        {
         "error_y": {
          "array": {
           "bdata": "ALBdI38XdT/A/6/sVImEP0D4CkDoII4/QKhBpXkDlD/AoESCYlajPwDLuNRS26s/AI1Mes+IsT8AbCEvC4a1P0A8gX8w2Sw/AJJDtPT5dD8A8wK7U02EP0B84nc2BY4/QKhBpXkDlD/ABRJIxDOjP0D8H4cqras/wMCyjVmUsT8AbCEvC4a1P4DEGMMGYyw/AHJJP6YJdT+AWs/hZ2SEP4ApcvK/8o0/gLLvdcgFlD9AnkUhsByjP4Bj7K0+xKs/wMCyjVmUsT+ABFUI9261P4DEGMMGYyw/",
           "dtype": "f8"
          },
          "arrayminus": {
           "bdata": "ALBdI38XdT/A/6/sVImEP0D4CkDoII4/QKhBpXkDlD/AoESCYlajPwDLuNRS26s/AI1Mes+IsT8AbCEvC4a1P0A8gX8w2Sw/AJJDtPT5dD8A8wK7U02EP0B84nc2BY4/QKhBpXkDlD/ABRJIxDOjP0D8H4cqras/wMCyjVmUsT8AbCEvC4a1P4DEGMMGYyw/AHJJP6YJdT+AWs/hZ2SEP4ApcvK/8o0/gLLvdcgFlD9AnkUhsByjP4Bj7K0+xKs/wMCyjVmUsT+ABFUI9261P4DEGMMGYyw/",
           "dtype": "f8"
          },
          "color": "black",
          "symmetric": false,
          "type": "data",
          "visible": true
         },
         "line": {
          "color": "black"
         },
         "mode": "lines",
         "name": "OLS Model",
         "type": "scatter",
         "x": {
          "bdata": "1sVtNIC34j/TTWIQWDnyPyPb+X5qvPo/w/UoXI/CAUApXI/C9SgRQLgehetRuBhAH4XrUbgeH0CamZmZmRkjQJqZmZmZmZk/k6mCUUmd4j9qvHSTGATyP6RwPQrXo/o/w/UoXI/CAUAK16NwPQoRQI/C9ShcjxhAMzMzMzMzH0CamZmZmRkjQI0o7Q2+MJk/l5APejar4j9/arx0kxjyP/p+arx0k/o/+FPjpZvEAUD2KFyPwvUQQKRwPQrXoxhAMzMzMzMzH0CF61G4HgUjQI0o7Q2+MJk/",
          "dtype": "f8"
         },
         "y": {
          "bdata": "alHqOrv40j891Hhq23jiPwLSCTWYGes/4CDSu3QA8j+FtCbRw2QBQGCjlvd4DglA0tFlaS2LD0CZTqaDKlwTQMS5PMfR8ok/34On+yje0j+6IvlZ4kLiP08xuxmvAOs/4CDSu3QA8j+mawRvoEUBQDdCvnT05AhAZgLSqu+fD0CZTqaDKlwTQJeDMcqIiIk/EgFDrUbs0j9QU2WbpFfiP9hwMbIT8Oo/7ljDKIgC8j8SO5gt3jABQMxyKra2+QhAZgLSqu+fD0AEHjpCaEcTQJeDMcqIiIk/",
          "dtype": "f8"
         }
        }
       ],
       "layout": {
        "annotations": [
         {
          "align": "right",
          "bgcolor": "white",
          "font": {
           "color": "black",
           "size": 14
          },
          "text": "<b>y = 0.5068x</b>",
          "x": 9.05,
          "xanchor": "right",
          "y": 4.586602477236588,
          "yanchor": "bottom"
         }
        ],
        "font": {
         "family": "Arial",
         "size": 14
        },
        "height": 600,
        "margin": {
         "b": 60,
         "l": 60,
         "r": 30,
         "t": 30
        },
        "plot_bgcolor": "white",
        "template": {
         "data": {
          "bar": [
           {
            "error_x": {
             "color": "#2a3f5f"
            },
            "error_y": {
             "color": "#2a3f5f"
            },
            "marker": {
             "line": {
              "color": "#E5ECF6",
              "width": 0.5
             },
             "pattern": {
              "fillmode": "overlay",
              "size": 10,
              "solidity": 0.2
             }
            },
            "type": "bar"
           }
          ],
          "barpolar": [
           {
            "marker": {
             "line": {
              "color": "#E5ECF6",
              "width": 0.5
             },
             "pattern": {
              "fillmode": "overlay",
              "size": 10,
              "solidity": 0.2
             }
            },
            "type": "barpolar"
           }
          ],
          "carpet": [
           {
            "aaxis": {
             "endlinecolor": "#2a3f5f",
             "gridcolor": "white",
             "linecolor": "white",
             "minorgridcolor": "white",
             "startlinecolor": "#2a3f5f"
            },
            "baxis": {
             "endlinecolor": "#2a3f5f",
             "gridcolor": "white",
             "linecolor": "white",
             "minorgridcolor": "white",
             "startlinecolor": "#2a3f5f"
            },
            "type": "carpet"
           }
          ],
          "choropleth": [
           {
            "colorbar": {
             "outlinewidth": 0,
             "ticks": ""
            },
            "type": "choropleth"
           }
          ],
          "contour": [
           {
            "colorbar": {
             "outlinewidth": 0,
             "ticks": ""
            },
            "colorscale": [
             [
              0,
              "#0d0887"
             ],
             [
              0.1111111111111111,
              "#46039f"
             ],
             [
              0.2222222222222222,
              "#7201a8"
             ],
             [
              0.3333333333333333,
              "#9c179e"
             ],
             [
              0.4444444444444444,
              "#bd3786"
             ],
             [
              0.5555555555555556,
              "#d8576b"
             ],
             [
              0.6666666666666666,
              "#ed7953"
             ],
             [
              0.7777777777777778,
              "#fb9f3a"
             ],
             [
              0.8888888888888888,
              "#fdca26"
             ],
             [
              1,
              "#f0f921"
             ]
            ],
            "type": "contour"
           }
          ],
          "contourcarpet": [
           {
            "colorbar": {
             "outlinewidth": 0,
             "ticks": ""
            },
            "type": "contourcarpet"
           }
          ],
          "heatmap": [
           {
            "colorbar": {
             "outlinewidth": 0,
             "ticks": ""
            },
            "colorscale": [
             [
              0,
              "#0d0887"
             ],
             [
              0.1111111111111111,
              "#46039f"
             ],
             [
              0.2222222222222222,
              "#7201a8"
             ],
             [
              0.3333333333333333,
              "#9c179e"
             ],
             [
              0.4444444444444444,
              "#bd3786"
             ],
             [
              0.5555555555555556,
              "#d8576b"
             ],
             [
              0.6666666666666666,
              "#ed7953"
             ],
             [
              0.7777777777777778,
              "#fb9f3a"
             ],
             [
              0.8888888888888888,
              "#fdca26"
             ],
             [
              1,
              "#f0f921"
             ]
            ],
            "type": "heatmap"
           }
          ],
          "histogram": [
           {
            "marker": {
             "pattern": {
              "fillmode": "overlay",
              "size": 10,
              "solidity": 0.2
             }
            },
            "type": "histogram"
           }
          ],
          "histogram2d": [
           {
            "colorbar": {
             "outlinewidth": 0,
             "ticks": ""
            },
            "colorscale": [
             [
              0,
              "#0d0887"
             ],
             [
              0.1111111111111111,
              "#46039f"
             ],
             [
              0.2222222222222222,
              "#7201a8"
             ],
             [
              0.3333333333333333,
              "#9c179e"
             ],
             [
              0.4444444444444444,
              "#bd3786"
             ],
             [
              0.5555555555555556,
              "#d8576b"
             ],
             [
              0.6666666666666666,
              "#ed7953"
             ],
             [
              0.7777777777777778,
              "#fb9f3a"
             ],
             [
              0.8888888888888888,
              "#fdca26"
             ],
             [
              1,
              "#f0f921"
             ]
            ],
            "type": "histogram2d"
           }
          ],
          "histogram2dcontour": [
           {
            "colorbar": {
             "outlinewidth": 0,
             "ticks": ""
            },
            "colorscale": [
             [
              0,
              "#0d0887"
             ],
             [
              0.1111111111111111,
              "#46039f"
             ],
             [
              0.2222222222222222,
              "#7201a8"
             ],
             [
              0.3333333333333333,
              "#9c179e"
             ],
             [
              0.4444444444444444,
              "#bd3786"
             ],
             [
              0.5555555555555556,
              "#d8576b"
             ],
             [
              0.6666666666666666,
              "#ed7953"
             ],
             [
              0.7777777777777778,
              "#fb9f3a"
             ],
             [
              0.8888888888888888,
              "#fdca26"
             ],
             [
              1,
              "#f0f921"
             ]
            ],
            "type": "histogram2dcontour"
           }
          ],
          "mesh3d": [
           {
            "colorbar": {
             "outlinewidth": 0,
             "ticks": ""
            },
            "type": "mesh3d"
           }
          ],
          "parcoords": [
           {
            "line": {
             "colorbar": {
              "outlinewidth": 0,
              "ticks": ""
             }
            },
            "type": "parcoords"
           }
          ],
          "pie": [
           {
            "automargin": true,
            "type": "pie"
           }
          ],
          "scatter": [
           {
            "fillpattern": {
             "fillmode": "overlay",
             "size": 10,
             "solidity": 0.2
            },
            "type": "scatter"
           }
          ],
          "scatter3d": [
           {
            "line": {
             "colorbar": {
              "outlinewidth": 0,
              "ticks": ""
             }
            },
            "marker": {
             "colorbar": {
              "outlinewidth": 0,
              "ticks": ""
             }
            },
            "type": "scatter3d"
           }
          ],
          "scattercarpet": [
           {
            "marker": {
             "colorbar": {
              "outlinewidth": 0,
              "ticks": ""
             }
            },
            "type": "scattercarpet"
           }
          ],
          "scattergeo": [
           {
            "marker": {
             "colorbar": {
              "outlinewidth": 0,
              "ticks": ""
             }
            },
            "type": "scattergeo"
           }
          ],
          "scattergl": [
           {
            "marker": {
             "colorbar": {
              "outlinewidth": 0,
              "ticks": ""
             }
            },
            "type": "scattergl"
           }
          ],
          "scattermap": [
           {
            "marker": {
             "colorbar": {
              "outlinewidth": 0,
              "ticks": ""
             }
            },
            "type": "scattermap"
           }
          ],
          "scattermapbox": [
           {
            "marker": {
             "colorbar": {
              "outlinewidth": 0,
              "ticks": ""
             }
            },
            "type": "scattermapbox"
           }
          ],
          "scatterpolar": [
           {
            "marker": {
             "colorbar": {
              "outlinewidth": 0,
              "ticks": ""
             }
            },
            "type": "scatterpolar"
           }
          ],
          "scatterpolargl": [
           {
            "marker": {
             "colorbar": {
              "outlinewidth": 0,
              "ticks": ""
             }
            },
            "type": "scatterpolargl"
           }
          ],
          "scatterternary": [
           {
            "marker": {
             "colorbar": {
              "outlinewidth": 0,
              "ticks": ""
             }
            },
            "type": "scatterternary"
           }
          ],
          "surface": [
           {
            "colorbar": {
             "outlinewidth": 0,
             "ticks": ""
            },
            "colorscale": [
             [
              0,
              "#0d0887"
             ],
             [
              0.1111111111111111,
              "#46039f"
             ],
             [
              0.2222222222222222,
              "#7201a8"
             ],
             [
              0.3333333333333333,
              "#9c179e"
             ],
             [
              0.4444444444444444,
              "#bd3786"
             ],
             [
              0.5555555555555556,
              "#d8576b"
             ],
             [
              0.6666666666666666,
              "#ed7953"
             ],
             [
              0.7777777777777778,
              "#fb9f3a"
             ],
             [
              0.8888888888888888,
              "#fdca26"
             ],
             [
              1,
              "#f0f921"
             ]
            ],
            "type": "surface"
           }
          ],
          "table": [
           {
            "cells": {
             "fill": {
              "color": "#EBF0F8"
             },
             "line": {
              "color": "white"
             }
            },
            "header": {
             "fill": {
              "color": "#C8D4E3"
             },
             "line": {
              "color": "white"
             }
            },
            "type": "table"
           }
          ]
         },
         "layout": {
          "annotationdefaults": {
           "arrowcolor": "#2a3f5f",
           "arrowhead": 0,
           "arrowwidth": 1
          },
          "autotypenumbers": "strict",
          "coloraxis": {
           "colorbar": {
            "outlinewidth": 0,
            "ticks": ""
           }
          },
          "colorscale": {
           "diverging": [
            [
             0,
             "#8e0152"
            ],
            [
             0.1,
             "#c51b7d"
            ],
            [
             0.2,
             "#de77ae"
            ],
            [
             0.3,
             "#f1b6da"
            ],
            [
             0.4,
             "#fde0ef"
            ],
            [
             0.5,
             "#f7f7f7"
            ],
            [
             0.6,
             "#e6f5d0"
            ],
            [
             0.7,
             "#b8e186"
            ],
            [
             0.8,
             "#7fbc41"
            ],
            [
             0.9,
             "#4d9221"
            ],
            [
             1,
             "#276419"
            ]
           ],
           "sequential": [
            [
             0,
             "#0d0887"
            ],
            [
             0.1111111111111111,
             "#46039f"
            ],
            [
             0.2222222222222222,
             "#7201a8"
            ],
            [
             0.3333333333333333,
             "#9c179e"
            ],
            [
             0.4444444444444444,
             "#bd3786"
            ],
            [
             0.5555555555555556,
             "#d8576b"
            ],
            [
             0.6666666666666666,
             "#ed7953"
            ],
            [
             0.7777777777777778,
             "#fb9f3a"
            ],
            [
             0.8888888888888888,
             "#fdca26"
            ],
            [
             1,
             "#f0f921"
            ]
           ],
           "sequentialminus": [
            [
             0,
             "#0d0887"
            ],
            [
             0.1111111111111111,
             "#46039f"
            ],
            [
             0.2222222222222222,
             "#7201a8"
            ],
            [
             0.3333333333333333,
             "#9c179e"
            ],
            [
             0.4444444444444444,
             "#bd3786"
            ],
            [
             0.5555555555555556,
             "#d8576b"
            ],
            [
             0.6666666666666666,
             "#ed7953"
            ],
            [
             0.7777777777777778,
             "#fb9f3a"
            ],
            [
             0.8888888888888888,
             "#fdca26"
            ],
            [
             1,
             "#f0f921"
            ]
           ]
          },
          "colorway": [
           "#636efa",
           "#EF553B",
           "#00cc96",
           "#ab63fa",
           "#FFA15A",
           "#19d3f3",
           "#FF6692",
           "#B6E880",
           "#FF97FF",
           "#FECB52"
          ],
          "font": {
           "color": "#2a3f5f"
          },
          "geo": {
           "bgcolor": "white",
           "lakecolor": "white",
           "landcolor": "#E5ECF6",
           "showlakes": true,
           "showland": true,
           "subunitcolor": "white"
          },
          "hoverlabel": {
           "align": "left"
          },
          "hovermode": "closest",
          "mapbox": {
           "style": "light"
          },
          "paper_bgcolor": "white",
          "plot_bgcolor": "#E5ECF6",
          "polar": {
           "angularaxis": {
            "gridcolor": "white",
            "linecolor": "white",
            "ticks": ""
           },
           "bgcolor": "#E5ECF6",
           "radialaxis": {
            "gridcolor": "white",
            "linecolor": "white",
            "ticks": ""
           }
          },
          "scene": {
           "xaxis": {
            "backgroundcolor": "#E5ECF6",
            "gridcolor": "white",
            "gridwidth": 2,
            "linecolor": "white",
            "showbackground": true,
            "ticks": "",
            "zerolinecolor": "white"
           },
           "yaxis": {
            "backgroundcolor": "#E5ECF6",
            "gridcolor": "white",
            "gridwidth": 2,
            "linecolor": "white",
            "showbackground": true,
            "ticks": "",
            "zerolinecolor": "white"
           },
           "zaxis": {
            "backgroundcolor": "#E5ECF6",
            "gridcolor": "white",
            "gridwidth": 2,
            "linecolor": "white",
            "showbackground": true,
            "ticks": "",
            "zerolinecolor": "white"
           }
          },
          "shapedefaults": {
           "line": {
            "color": "#2a3f5f"
           }
          },
          "ternary": {
           "aaxis": {
            "gridcolor": "white",
            "linecolor": "white",
            "ticks": ""
           },
           "baxis": {
            "gridcolor": "white",
            "linecolor": "white",
            "ticks": ""
           },
           "bgcolor": "#E5ECF6",
           "caxis": {
            "gridcolor": "white",
            "linecolor": "white",
            "ticks": ""
           }
          },
          "title": {
           "x": 0.05
          },
          "xaxis": {
           "automargin": true,
           "gridcolor": "white",
           "linecolor": "white",
           "ticks": "",
           "title": {
            "standoff": 15
           },
           "zerolinecolor": "white",
           "zerolinewidth": 2
          },
          "yaxis": {
           "automargin": true,
           "gridcolor": "white",
           "linecolor": "white",
           "ticks": "",
           "title": {
            "standoff": 15
           },
           "zerolinecolor": "white",
           "zerolinewidth": 2
          }
         }
        },
        "title": {
         "text": "Calibration Curve - RO_Week_2_Data.xlsx"
        },
        "width": 600,
        "xaxis": {
         "gridcolor": "gray",
         "gridwidth": 1,
         "linecolor": "black",
         "linewidth": 2,
         "mirror": true,
         "showgrid": true,
         "tickfont": {
          "size": 14
         },
         "title": {
          "font": {
           "size": 18
          },
          "text": "Conductivity (mS)"
         }
        },
        "yaxis": {
         "gridcolor": "gray",
         "gridwidth": 1,
         "linecolor": "black",
         "linewidth": 2,
         "mirror": true,
         "showgrid": true,
         "tickfont": {
          "size": 14
         },
         "title": {
          "font": {
           "size": 18
          },
          "text": "Concentration (g/L)"
         }
        }
       }
      }
     },
     "metadata": {},
     "output_type": "display_data"
    }
   ],
   "source": [
    "import pandas as pd\n",
    "import numpy as np\n",
    "import statsmodels.api as sm\n",
    "import plotly.graph_objects as go\n",
    "\n",
    "def plot_calibration(fileName):\n",
    "    # Load data from Excel\n",
    "    df = pd.read_excel(fileName, sheet_name=\"Results\")\n",
    "    \n",
    "    # Independent variable (Conductivity)\n",
    "    x1 = df[\"Conductivity_A_(mS)\"]\n",
    "    x2 = df[\"Conductivity_B_(mS)\"]\n",
    "    x3 = df[\"Conductivity_C_(mS)\"]\n",
    "    \n",
    "    # Dependent variable (Concentration)\n",
    "    y_from_excel = df[\"Concentration_(g/L)\"]\n",
    "    \n",
    "    # Concatenate x values and replicate y values\n",
    "    x_data = np.concatenate([x1, x2, x3])  # Conductivity\n",
    "    y_data = np.tile(y_from_excel, 3)  # Concentration\n",
    "\n",
    "    # Reshape x_data to 2D array for OLS (Zero Intercept)\n",
    "    X = x_data[:, np.newaxis]  # No intercept\n",
    "\n",
    "    # Fit the OLS model (forcing zero intercept)\n",
    "    model = sm.OLS(y_data, X).fit()\n",
    "\n",
    "    # Confidence intervals\n",
    "    conf_intervals = model.conf_int()\n",
    "    \n",
    "    # Get prediction results\n",
    "    pred = model.get_prediction(X)\n",
    "    pred_summary = pred.summary_frame(alpha=0.05)  # 95% CI\n",
    "    \n",
    "    # Extract confidence intervals\n",
    "    ci_lower = pred_summary['mean_ci_lower']\n",
    "    ci_upper = pred_summary['mean_ci_upper']\n",
    "\n",
    "    # Create plotly figure\n",
    "    fig = go.Figure()\n",
    "\n",
    "    # Plot the three data runs\n",
    "    fig.add_trace(go.Scatter(x=x1, y=y_from_excel, mode=\"markers\", marker=dict(symbol=\"x\", color=\"red\"), name=\"Run 1\"))\n",
    "    fig.add_trace(go.Scatter(x=x2, y=y_from_excel, mode=\"markers\", marker=dict(symbol=\"star\", color=\"blue\"), name=\"Run 2\"))\n",
    "    fig.add_trace(go.Scatter(x=x3, y=y_from_excel, mode=\"markers\", marker=dict(symbol=\"cross\", color=\"green\"), name=\"Run 3\"))\n",
    "\n",
    "    # Plot the regression model\n",
    "    slope = model.params[0]  # Only one parameter since intercept is zero\n",
    "    equation_text = f\"y = {slope:.4f}x\"  # Equation without intercept\n",
    "\n",
    "    fig.add_trace(go.Scatter(\n",
    "        x=x_data, \n",
    "        y=model.fittedvalues, \n",
    "        mode='lines', \n",
    "        name='OLS Model',\n",
    "        line=dict(color=\"black\"),\n",
    "        error_y=dict(\n",
    "            type='data',\n",
    "            symmetric=False,\n",
    "            array=ci_upper - model.fittedvalues,  # Upper error bound\n",
    "            arrayminus=model.fittedvalues - ci_lower,  # Lower error bound\n",
    "            visible=True,\n",
    "            color=\"black\"\n",
    "        )\n",
    "    ))\n",
    "\n",
    "    # Add equation annotation\n",
    "    fig.add_annotation(\n",
    "        x=x_data.max() - 0.5,\n",
    "        y=slope * (x_data.max() - 0.5),\n",
    "        text=f\"<b>{equation_text}</b>\",\n",
    "        font=dict(size=14, color=\"black\"),\n",
    "        align=\"right\",\n",
    "        xanchor=\"right\",\n",
    "        yanchor=\"bottom\",\n",
    "        bgcolor=\"white\"\n",
    "    )\n",
    "\n",
    "    # Update layout to swap axes\n",
    "    fig.update_layout(\n",
    "        xaxis=dict(\n",
    "            showgrid=True,\n",
    "            gridwidth=1,\n",
    "            gridcolor=\"gray\",\n",
    "            title=\"Conductivity (mS)\",  # X-axis is now Conductivity\n",
    "            title_font=dict(size=18),\n",
    "            tickfont=dict(size=14),\n",
    "            linewidth=2,\n",
    "            linecolor=\"black\",\n",
    "            mirror=True\n",
    "        ),\n",
    "        yaxis=dict(\n",
    "            showgrid=True,\n",
    "            gridwidth=1,\n",
    "            gridcolor=\"gray\",\n",
    "            title=\"Concentration (g/L)\",  # Y-axis is now Concentration\n",
    "            title_font=dict(size=18),\n",
    "            tickfont=dict(size=14),\n",
    "            linewidth=2,\n",
    "            linecolor=\"black\",\n",
    "            mirror=True\n",
    "        ),\n",
    "        title=f\"Calibration Curve - {fileName}\",\n",
    "        width=600,\n",
    "        height=600,\n",
    "        font=dict(family=\"Arial\", size=14),\n",
    "        plot_bgcolor=\"white\",\n",
    "        margin=dict(l=60, r=30, t=30, b=60)\n",
    "    )\n",
    "\n",
    "    fig.show()\n",
    "\n",
    "# Run the function for both files\n",
    "plot_calibration(\"RO_Week_1_Data.xlsx\")\n",
    "plot_calibration(\"RO_Week_2_Data.xlsx\")\n"
   ]
  }
 ],
 "metadata": {
  "kernelspec": {
   "display_name": "plotly_env_RO",
   "language": "python",
   "name": "python3"
  },
  "language_info": {
   "codemirror_mode": {
    "name": "ipython",
    "version": 3
   },
   "file_extension": ".py",
   "mimetype": "text/x-python",
   "name": "python",
   "nbconvert_exporter": "python",
   "pygments_lexer": "ipython3",
   "version": "3.13.2"
  }
 },
 "nbformat": 4,
 "nbformat_minor": 2
}
