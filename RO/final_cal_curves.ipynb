{
 "cells": [
  {
   "cell_type": "code",
   "execution_count": 14,
   "metadata": {},
   "outputs": [
    {
     "data": {
      "application/vnd.plotly.v1+json": {
       "config": {
        "plotlyServerURL": "https://plot.ly"
       },
       "data": [
        {
         "error_y": {
          "array": {
           "bdata": "AAAAAAAAAAAghLh8HXGBPyCEuHwdcZE/QMYUO6wpmj8ghLh8HXGhPwAAAAAAAAAAIIS4fB1xgT8ghLh8HXGRP0DGFDusKZo/IIS4fB1xoT8AAAAAAAAAACCEuHwdcYE/IIS4fB1xkT9AxhQ7rCmaPyCEuHwdcaE/",
           "dtype": "f8"
          },
          "arrayminus": {
           "bdata": "AAAAAAAAAAAghLh8HXGBPyCEuHwdcZE/QMYUO6wpmj8ghLh8HXGhPwAAAAAAAAAAIIS4fB1xgT8ghLh8HXGRP0DGFDusKZo/IIS4fB1xoT8AAAAAAAAAACCEuHwdcYE/IIS4fB1xkT9AxhQ7rCmaPyCEuHwdcaE/",
           "dtype": "f8"
          },
          "color": "black",
          "symmetric": false,
          "type": "data",
          "visible": true
         },
         "line": {
          "color": "black",
          "width": 2
         },
         "mode": "lines",
         "name": "OLS Model (Runs 0-4)",
         "showlegend": false,
         "type": "scatter",
         "x": {
          "bdata": "AAAAAAAAAAAAAAAAAADQPwAAAAAAAOA/AAAAAAAA6D8AAAAAAADwPwAAAAAAAAAAAAAAAAAA0D8AAAAAAADgPwAAAAAAAOg/AAAAAAAA8D8AAAAAAAAAAAAAAAAAANA/AAAAAAAA4D8AAAAAAADoPwAAAAAAAPA/",
          "dtype": "f8"
         },
         "y": {
          "bdata": "AAAAAAAAAABnVPMvXDDfP2dU8y9cMO8/TX/2I0Vk9z9nVPMvXDD/PwAAAAAAAAAAZ1TzL1ww3z9nVPMvXDDvP01/9iNFZPc/Z1TzL1ww/z8AAAAAAAAAAGdU8y9cMN8/Z1TzL1ww7z9Nf/YjRWT3P2dU8y9cMP8/",
          "dtype": "f8"
         }
        },
        {
         "marker": {
          "color": "crimson",
          "size": 10,
          "symbol": "cross"
         },
         "mode": "markers",
         "name": "Runs 0-4",
         "type": "scatter",
         "x": {
          "bdata": "AAAAAAAAAAAAAAAAAADQPwAAAAAAAOA/AAAAAAAA6D8AAAAAAADwPwAAAAAAAAAAAAAAAAAA0D8AAAAAAADgPwAAAAAAAOg/AAAAAAAA8D8AAAAAAAAAAAAAAAAAANA/AAAAAAAA4D8AAAAAAADoPwAAAAAAAPA/",
          "dtype": "f8"
         },
         "y": {
          "bdata": "mpmZmZmZmT8/xty1hHzgP3sUrkfhevA/pHA9Ctej9j8dWmQ730//P40o7Q2+MJk/ak3zjlN04D8730+Nl27wP8/3U+Olm/Y/c2iR7Xw//z+NKO0NvjCZP6abxCCwcuA/0SLb+X5q8D+PwvUoXI/2P8l2vp8aL/8/",
          "dtype": "f8"
         }
        },
        {
         "error_y": {
          "array": {
           "bdata": "gKP3ah9krj+AujmQF8u2P4Cj92ofZL4/QMbaopP+wj+Ao/dqH2SuP4C6OZAXy7Y/gKP3ah9kvj9Axtqik/7CP4Cj92ofZK4/gLo5kBfLtj+Ao/dqH2S+P0DG2qKT/sI/",
           "dtype": "f8"
          },
          "arrayminus": {
           "bdata": "gKP3ah9krj+AujmQF8u2P4Cj92ofZL4/QMbaopP+wj+Ao/dqH2SuP4C6OZAXy7Y/gKP3ah9kvj9Axtqik/7CP4Cj92ofZK4/gLo5kBfLtj+Ao/dqH2S+P0DG2qKT/sI/",
           "dtype": "f8"
          },
          "color": "black",
          "symmetric": false,
          "type": "data",
          "visible": true
         },
         "line": {
          "color": "black",
          "width": 2
         },
         "mode": "lines",
         "name": "OLS Model (Runs 5-8)",
         "showlegend": false,
         "type": "scatter",
         "x": {
          "bdata": "AAAAAAAAAEAAAAAAAAAIQAAAAAAAABBAAAAAAAAAFEAAAAAAAAAAQAAAAAAAAAhAAAAAAAAAEEAAAAAAAAAUQAAAAAAAAABAAAAAAAAACEAAAAAAAAAQQAAAAAAAABRA",
          "dtype": "f8"
         },
         "y": {
          "bdata": "RQGGfI9pDUD0gGSdKw8WQEUBhnyPaR1Ay8DTrflhIkBFAYZ8j2kNQPSAZJ0rDxZARQGGfI9pHUDLwNOt+WEiQEUBhnyPaQ1A9IBknSsPFkBFAYZ8j2kdQMvA0635YSJA",
          "dtype": "f8"
         }
        },
        {
         "marker": {
          "color": "blue",
          "size": 10,
          "symbol": "x"
         },
         "mode": "markers",
         "name": "Runs 5-8",
         "type": "scatter",
         "x": {
          "bdata": "AAAAAAAAAEAAAAAAAAAIQAAAAAAAABBAAAAAAAAAFEAAAAAAAAAAQAAAAAAAAAhAAAAAAAAAEEAAAAAAAAAUQAAAAAAAAABAAAAAAAAACEAAAAAAAAAQQAAAAAAAABRA",
          "dtype": "f8"
         },
         "y": {
          "bdata": "CtejcD0KD0DD9Shcj8IWQKRwPQrXox1A9ihcj8L1IUD2KFyPwvUOQK5H4XoUrhZApHA9CtejHUCF61G4HgUiQM3MzMzMzA5AuB6F61G4FkBmZmZmZmYdQHE9Ctej8CFA",
          "dtype": "f8"
         }
        }
       ],
       "layout": {
        "annotations": [
         {
          "bgcolor": "white",
          "font": {
           "color": "black",
           "size": 16
          },
          "text": "<b>y = 1.9493x<br>R² = 0.9991",
          "x": 1,
          "xanchor": "right",
          "y": 1.9493066666666665,
          "yanchor": "bottom"
         },
         {
          "bgcolor": "white",
          "font": {
           "color": "blue",
           "size": 16
          },
          "text": "<b>y = 1.8383x<br>R² = 0.9994",
          "x": 5,
          "xanchor": "right",
          "y": 9.19135802469136,
          "yanchor": "bottom"
         }
        ],
        "font": {
         "family": "Arial",
         "size": 16
        },
        "height": 600,
        "margin": {
         "b": 60,
         "l": 60,
         "r": 30,
         "t": 30
        },
        "plot_bgcolor": "white",
        "template": {
         "data": {
          "bar": [
           {
            "error_x": {
             "color": "#2a3f5f"
            },
            "error_y": {
             "color": "#2a3f5f"
            },
            "marker": {
             "line": {
              "color": "#E5ECF6",
              "width": 0.5
             },
             "pattern": {
              "fillmode": "overlay",
              "size": 10,
              "solidity": 0.2
             }
            },
            "type": "bar"
           }
          ],
          "barpolar": [
           {
            "marker": {
             "line": {
              "color": "#E5ECF6",
              "width": 0.5
             },
             "pattern": {
              "fillmode": "overlay",
              "size": 10,
              "solidity": 0.2
             }
            },
            "type": "barpolar"
           }
          ],
          "carpet": [
           {
            "aaxis": {
             "endlinecolor": "#2a3f5f",
             "gridcolor": "white",
             "linecolor": "white",
             "minorgridcolor": "white",
             "startlinecolor": "#2a3f5f"
            },
            "baxis": {
             "endlinecolor": "#2a3f5f",
             "gridcolor": "white",
             "linecolor": "white",
             "minorgridcolor": "white",
             "startlinecolor": "#2a3f5f"
            },
            "type": "carpet"
           }
          ],
          "choropleth": [
           {
            "colorbar": {
             "outlinewidth": 0,
             "ticks": ""
            },
            "type": "choropleth"
           }
          ],
          "contour": [
           {
            "colorbar": {
             "outlinewidth": 0,
             "ticks": ""
            },
            "colorscale": [
             [
              0,
              "#0d0887"
             ],
             [
              0.1111111111111111,
              "#46039f"
             ],
             [
              0.2222222222222222,
              "#7201a8"
             ],
             [
              0.3333333333333333,
              "#9c179e"
             ],
             [
              0.4444444444444444,
              "#bd3786"
             ],
             [
              0.5555555555555556,
              "#d8576b"
             ],
             [
              0.6666666666666666,
              "#ed7953"
             ],
             [
              0.7777777777777778,
              "#fb9f3a"
             ],
             [
              0.8888888888888888,
              "#fdca26"
             ],
             [
              1,
              "#f0f921"
             ]
            ],
            "type": "contour"
           }
          ],
          "contourcarpet": [
           {
            "colorbar": {
             "outlinewidth": 0,
             "ticks": ""
            },
            "type": "contourcarpet"
           }
          ],
          "heatmap": [
           {
            "colorbar": {
             "outlinewidth": 0,
             "ticks": ""
            },
            "colorscale": [
             [
              0,
              "#0d0887"
             ],
             [
              0.1111111111111111,
              "#46039f"
             ],
             [
              0.2222222222222222,
              "#7201a8"
             ],
             [
              0.3333333333333333,
              "#9c179e"
             ],
             [
              0.4444444444444444,
              "#bd3786"
             ],
             [
              0.5555555555555556,
              "#d8576b"
             ],
             [
              0.6666666666666666,
              "#ed7953"
             ],
             [
              0.7777777777777778,
              "#fb9f3a"
             ],
             [
              0.8888888888888888,
              "#fdca26"
             ],
             [
              1,
              "#f0f921"
             ]
            ],
            "type": "heatmap"
           }
          ],
          "histogram": [
           {
            "marker": {
             "pattern": {
              "fillmode": "overlay",
              "size": 10,
              "solidity": 0.2
             }
            },
            "type": "histogram"
           }
          ],
          "histogram2d": [
           {
            "colorbar": {
             "outlinewidth": 0,
             "ticks": ""
            },
            "colorscale": [
             [
              0,
              "#0d0887"
             ],
             [
              0.1111111111111111,
              "#46039f"
             ],
             [
              0.2222222222222222,
              "#7201a8"
             ],
             [
              0.3333333333333333,
              "#9c179e"
             ],
             [
              0.4444444444444444,
              "#bd3786"
             ],
             [
              0.5555555555555556,
              "#d8576b"
             ],
             [
              0.6666666666666666,
              "#ed7953"
             ],
             [
              0.7777777777777778,
              "#fb9f3a"
             ],
             [
              0.8888888888888888,
              "#fdca26"
             ],
             [
              1,
              "#f0f921"
             ]
            ],
            "type": "histogram2d"
           }
          ],
          "histogram2dcontour": [
           {
            "colorbar": {
             "outlinewidth": 0,
             "ticks": ""
            },
            "colorscale": [
             [
              0,
              "#0d0887"
             ],
             [
              0.1111111111111111,
              "#46039f"
             ],
             [
              0.2222222222222222,
              "#7201a8"
             ],
             [
              0.3333333333333333,
              "#9c179e"
             ],
             [
              0.4444444444444444,
              "#bd3786"
             ],
             [
              0.5555555555555556,
              "#d8576b"
             ],
             [
              0.6666666666666666,
              "#ed7953"
             ],
             [
              0.7777777777777778,
              "#fb9f3a"
             ],
             [
              0.8888888888888888,
              "#fdca26"
             ],
             [
              1,
              "#f0f921"
             ]
            ],
            "type": "histogram2dcontour"
           }
          ],
          "mesh3d": [
           {
            "colorbar": {
             "outlinewidth": 0,
             "ticks": ""
            },
            "type": "mesh3d"
           }
          ],
          "parcoords": [
           {
            "line": {
             "colorbar": {
              "outlinewidth": 0,
              "ticks": ""
             }
            },
            "type": "parcoords"
           }
          ],
          "pie": [
           {
            "automargin": true,
            "type": "pie"
           }
          ],
          "scatter": [
           {
            "fillpattern": {
             "fillmode": "overlay",
             "size": 10,
             "solidity": 0.2
            },
            "type": "scatter"
           }
          ],
          "scatter3d": [
           {
            "line": {
             "colorbar": {
              "outlinewidth": 0,
              "ticks": ""
             }
            },
            "marker": {
             "colorbar": {
              "outlinewidth": 0,
              "ticks": ""
             }
            },
            "type": "scatter3d"
           }
          ],
          "scattercarpet": [
           {
            "marker": {
             "colorbar": {
              "outlinewidth": 0,
              "ticks": ""
             }
            },
            "type": "scattercarpet"
           }
          ],
          "scattergeo": [
           {
            "marker": {
             "colorbar": {
              "outlinewidth": 0,
              "ticks": ""
             }
            },
            "type": "scattergeo"
           }
          ],
          "scattergl": [
           {
            "marker": {
             "colorbar": {
              "outlinewidth": 0,
              "ticks": ""
             }
            },
            "type": "scattergl"
           }
          ],
          "scattermap": [
           {
            "marker": {
             "colorbar": {
              "outlinewidth": 0,
              "ticks": ""
             }
            },
            "type": "scattermap"
           }
          ],
          "scattermapbox": [
           {
            "marker": {
             "colorbar": {
              "outlinewidth": 0,
              "ticks": ""
             }
            },
            "type": "scattermapbox"
           }
          ],
          "scatterpolar": [
           {
            "marker": {
             "colorbar": {
              "outlinewidth": 0,
              "ticks": ""
             }
            },
            "type": "scatterpolar"
           }
          ],
          "scatterpolargl": [
           {
            "marker": {
             "colorbar": {
              "outlinewidth": 0,
              "ticks": ""
             }
            },
            "type": "scatterpolargl"
           }
          ],
          "scatterternary": [
           {
            "marker": {
             "colorbar": {
              "outlinewidth": 0,
              "ticks": ""
             }
            },
            "type": "scatterternary"
           }
          ],
          "surface": [
           {
            "colorbar": {
             "outlinewidth": 0,
             "ticks": ""
            },
            "colorscale": [
             [
              0,
              "#0d0887"
             ],
             [
              0.1111111111111111,
              "#46039f"
             ],
             [
              0.2222222222222222,
              "#7201a8"
             ],
             [
              0.3333333333333333,
              "#9c179e"
             ],
             [
              0.4444444444444444,
              "#bd3786"
             ],
             [
              0.5555555555555556,
              "#d8576b"
             ],
             [
              0.6666666666666666,
              "#ed7953"
             ],
             [
              0.7777777777777778,
              "#fb9f3a"
             ],
             [
              0.8888888888888888,
              "#fdca26"
             ],
             [
              1,
              "#f0f921"
             ]
            ],
            "type": "surface"
           }
          ],
          "table": [
           {
            "cells": {
             "fill": {
              "color": "#EBF0F8"
             },
             "line": {
              "color": "white"
             }
            },
            "header": {
             "fill": {
              "color": "#C8D4E3"
             },
             "line": {
              "color": "white"
             }
            },
            "type": "table"
           }
          ]
         },
         "layout": {
          "annotationdefaults": {
           "arrowcolor": "#2a3f5f",
           "arrowhead": 0,
           "arrowwidth": 1
          },
          "autotypenumbers": "strict",
          "coloraxis": {
           "colorbar": {
            "outlinewidth": 0,
            "ticks": ""
           }
          },
          "colorscale": {
           "diverging": [
            [
             0,
             "#8e0152"
            ],
            [
             0.1,
             "#c51b7d"
            ],
            [
             0.2,
             "#de77ae"
            ],
            [
             0.3,
             "#f1b6da"
            ],
            [
             0.4,
             "#fde0ef"
            ],
            [
             0.5,
             "#f7f7f7"
            ],
            [
             0.6,
             "#e6f5d0"
            ],
            [
             0.7,
             "#b8e186"
            ],
            [
             0.8,
             "#7fbc41"
            ],
            [
             0.9,
             "#4d9221"
            ],
            [
             1,
             "#276419"
            ]
           ],
           "sequential": [
            [
             0,
             "#0d0887"
            ],
            [
             0.1111111111111111,
             "#46039f"
            ],
            [
             0.2222222222222222,
             "#7201a8"
            ],
            [
             0.3333333333333333,
             "#9c179e"
            ],
            [
             0.4444444444444444,
             "#bd3786"
            ],
            [
             0.5555555555555556,
             "#d8576b"
            ],
            [
             0.6666666666666666,
             "#ed7953"
            ],
            [
             0.7777777777777778,
             "#fb9f3a"
            ],
            [
             0.8888888888888888,
             "#fdca26"
            ],
            [
             1,
             "#f0f921"
            ]
           ],
           "sequentialminus": [
            [
             0,
             "#0d0887"
            ],
            [
             0.1111111111111111,
             "#46039f"
            ],
            [
             0.2222222222222222,
             "#7201a8"
            ],
            [
             0.3333333333333333,
             "#9c179e"
            ],
            [
             0.4444444444444444,
             "#bd3786"
            ],
            [
             0.5555555555555556,
             "#d8576b"
            ],
            [
             0.6666666666666666,
             "#ed7953"
            ],
            [
             0.7777777777777778,
             "#fb9f3a"
            ],
            [
             0.8888888888888888,
             "#fdca26"
            ],
            [
             1,
             "#f0f921"
            ]
           ]
          },
          "colorway": [
           "#636efa",
           "#EF553B",
           "#00cc96",
           "#ab63fa",
           "#FFA15A",
           "#19d3f3",
           "#FF6692",
           "#B6E880",
           "#FF97FF",
           "#FECB52"
          ],
          "font": {
           "color": "#2a3f5f"
          },
          "geo": {
           "bgcolor": "white",
           "lakecolor": "white",
           "landcolor": "#E5ECF6",
           "showlakes": true,
           "showland": true,
           "subunitcolor": "white"
          },
          "hoverlabel": {
           "align": "left"
          },
          "hovermode": "closest",
          "mapbox": {
           "style": "light"
          },
          "paper_bgcolor": "white",
          "plot_bgcolor": "#E5ECF6",
          "polar": {
           "angularaxis": {
            "gridcolor": "white",
            "linecolor": "white",
            "ticks": ""
           },
           "bgcolor": "#E5ECF6",
           "radialaxis": {
            "gridcolor": "white",
            "linecolor": "white",
            "ticks": ""
           }
          },
          "scene": {
           "xaxis": {
            "backgroundcolor": "#E5ECF6",
            "gridcolor": "white",
            "gridwidth": 2,
            "linecolor": "white",
            "showbackground": true,
            "ticks": "",
            "zerolinecolor": "white"
           },
           "yaxis": {
            "backgroundcolor": "#E5ECF6",
            "gridcolor": "white",
            "gridwidth": 2,
            "linecolor": "white",
            "showbackground": true,
            "ticks": "",
            "zerolinecolor": "white"
           },
           "zaxis": {
            "backgroundcolor": "#E5ECF6",
            "gridcolor": "white",
            "gridwidth": 2,
            "linecolor": "white",
            "showbackground": true,
            "ticks": "",
            "zerolinecolor": "white"
           }
          },
          "shapedefaults": {
           "line": {
            "color": "#2a3f5f"
           }
          },
          "ternary": {
           "aaxis": {
            "gridcolor": "white",
            "linecolor": "white",
            "ticks": ""
           },
           "baxis": {
            "gridcolor": "white",
            "linecolor": "white",
            "ticks": ""
           },
           "bgcolor": "#E5ECF6",
           "caxis": {
            "gridcolor": "white",
            "linecolor": "white",
            "ticks": ""
           }
          },
          "title": {
           "x": 0.05
          },
          "xaxis": {
           "automargin": true,
           "gridcolor": "white",
           "linecolor": "white",
           "ticks": "",
           "title": {
            "standoff": 15
           },
           "zerolinecolor": "white",
           "zerolinewidth": 2
          },
          "yaxis": {
           "automargin": true,
           "gridcolor": "white",
           "linecolor": "white",
           "ticks": "",
           "title": {
            "standoff": 15
           },
           "zerolinecolor": "white",
           "zerolinewidth": 2
          }
         }
        },
        "width": 800,
        "xaxis": {
         "gridcolor": "gray",
         "gridwidth": 1,
         "linecolor": "black",
         "linewidth": 2,
         "mirror": true,
         "showgrid": true,
         "tickfont": {
          "size": 14
         },
         "title": {
          "font": {
           "size": 16
          },
          "text": "Concentration (g/L)"
         }
        },
        "yaxis": {
         "gridcolor": "gray",
         "gridwidth": 1,
         "linecolor": "black",
         "linewidth": 2,
         "mirror": true,
         "showgrid": true,
         "tickfont": {
          "size": 14
         },
         "title": {
          "font": {
           "size": 16
          },
          "text": "Conductivity (mS)"
         }
        }
       }
      }
     },
     "metadata": {},
     "output_type": "display_data"
    },
    {
     "data": {
      "application/vnd.plotly.v1+json": {
       "config": {
        "plotlyServerURL": "https://plot.ly"
       },
       "data": [
        {
         "error_y": {
          "array": {
           "bdata": "AAAAAAAAAACARAFTOfZxP4BEAVM59oE/gOaB/FXxij+ARAFTOfaRPwAAAAAAAAAAgEQBUzn2cT+ARAFTOfaBP4DmgfxV8Yo/gEQBUzn2kT8AAAAAAAAAAIBEAVM59nE/gEQBUzn2gT+A5oH8VfGKP4BEAVM59pE/",
           "dtype": "f8"
          },
          "arrayminus": {
           "bdata": "AAAAAAAAAACARAFTOfZxP4BEAVM59oE/gOaB/FXxij+ARAFTOfaRPwAAAAAAAAAAgEQBUzn2cT+ARAFTOfaBP4DmgfxV8Yo/gEQBUzn2kT8AAAAAAAAAAIBEAVM59nE/gEQBUzn2gT+A5oH8VfGKP4BEAVM59pE/",
           "dtype": "f8"
          },
          "color": "black",
          "symmetric": false,
          "type": "data",
          "visible": true
         },
         "line": {
          "color": "black",
          "width": 2
         },
         "mode": "lines",
         "name": "OLS Model (Runs 0-4)",
         "showlegend": false,
         "type": "scatter",
         "x": {
          "bdata": "AAAAAAAAAAAAAAAAAADQPwAAAAAAAOA/AAAAAAAA6D8AAAAAAADwPwAAAAAAAAAAAAAAAAAA0D8AAAAAAADgPwAAAAAAAOg/AAAAAAAA8D8AAAAAAAAAAAAAAAAAANA/AAAAAAAA4D8AAAAAAADoPwAAAAAAAPA/",
          "dtype": "f8"
         },
         "y": {
          "bdata": "AAAAAAAAAAAmm+fXONfhPyab59c41/E/uWjbQ9XC+j8mm+fXONcBQAAAAAAAAAAAJpvn1zjX4T8mm+fXONfxP7lo20PVwvo/Jpvn1zjXAUAAAAAAAAAAACab59c41+E/Jpvn1zjX8T+5aNtD1cL6Pyab59c41wFA",
          "dtype": "f8"
         }
        },
        {
         "marker": {
          "color": "crimson",
          "size": 10,
          "symbol": "cross"
         },
         "mode": "markers",
         "name": "Runs 0-4",
         "type": "scatter",
         "x": {
          "bdata": "AAAAAAAAAAAAAAAAAADQPwAAAAAAAOA/AAAAAAAA6D8AAAAAAADwPwAAAAAAAAAAAAAAAAAA0D8AAAAAAADgPwAAAAAAAOg/AAAAAAAA8D8AAAAAAAAAAAAAAAAAANA/AAAAAAAA4D8AAAAAAADoPwAAAAAAAPA/",
          "dtype": "f8"
         },
         "y": {
          "bdata": "mpmZmZmZmT/WxW00gLfiP9NNYhBYOfI/I9v5fmq8+j/D9Shcj8IBQI0o7Q2+MJk/k6mCUUmd4j9qvHSTGATyP6RwPQrXo/o/w/UoXI/CAUCNKO0NvjCZP5eQD3o2q+I/f2q8dJMY8j/6fmq8dJP6P/hT46WbxAFA",
          "dtype": "f8"
         }
        },
        {
         "error_y": {
          "array": {
           "bdata": "QHLPYUz6tz+glVtJufvBP0Byz2FM+sc/wE5Det/4zT9Acs9hTPq3P6CVW0m5+8E/QHLPYUz6xz/ATkN63/jNP0Byz2FM+rc/oJVbSbn7wT9Acs9hTPrHP8BOQ3rf+M0/",
           "dtype": "f8"
          },
          "arrayminus": {
           "bdata": "IHLPYUz6tz+glVtJufvBPyByz2FM+sc/wE5Det/4zT8gcs9hTPq3P6CVW0m5+8E/IHLPYUz6xz/ATkN63/jNPyByz2FM+rc/oJVbSbn7wT8gcs9hTPrHP8BOQ3rf+M0/",
           "dtype": "f8"
          },
          "color": "black",
          "symmetric": false,
          "type": "data",
          "visible": true
         },
         "line": {
          "color": "black",
          "width": 2
         },
         "mode": "lines",
         "name": "OLS Model (Runs 5-8)",
         "showlegend": false,
         "type": "scatter",
         "x": {
          "bdata": "AAAAAAAAAEAAAAAAAAAIQAAAAAAAABBAAAAAAAAAFEAAAAAAAAAAQAAAAAAAAAhAAAAAAAAAEEAAAAAAAAAUQAAAAAAAAABAAAAAAAAACEAAAAAAAAAQQAAAAAAAABRA",
          "dtype": "f8"
         },
         "y": {
          "bdata": "aJ5jDO5dD0DOtkqJcoYXQGieYwzuXR9AAUO+x7SaI0BonmMM7l0PQM62SolyhhdAaJ5jDO5dH0ABQ77HtJojQGieYwzuXQ9AzrZKiXKGF0BonmMM7l0fQAFDvse0miNA",
          "dtype": "f8"
         }
        },
        {
         "marker": {
          "color": "blue",
          "size": 10,
          "symbol": "x"
         },
         "mode": "markers",
         "name": "Runs 5-8",
         "type": "scatter",
         "x": {
          "bdata": "AAAAAAAAAEAAAAAAAAAIQAAAAAAAABBAAAAAAAAAFEAAAAAAAAAAQAAAAAAAAAhAAAAAAAAAEEAAAAAAAAAUQAAAAAAAAABAAAAAAAAACEAAAAAAAAAQQAAAAAAAABRA",
          "dtype": "f8"
         },
         "y": {
          "bdata": "KVyPwvUoEUC4HoXrUbgYQB+F61G4Hh9AmpmZmZkZI0AK16NwPQoRQI/C9ShcjxhAMzMzMzMzH0CamZmZmRkjQPYoXI/C9RBApHA9CtejGEAzMzMzMzMfQIXrUbgeBSNA",
          "dtype": "f8"
         }
        }
       ],
       "layout": {
        "annotations": [
         {
          "bgcolor": "white",
          "font": {
           "color": "black",
           "size": 16
          },
          "text": "<b>y = 2.2301x<br>R² = 0.9998",
          "x": 1,
          "xanchor": "right",
          "y": 2.230088888888889,
          "yanchor": "bottom"
         },
         {
          "bgcolor": "white",
          "font": {
           "color": "blue",
           "size": 16
          },
          "text": "<b>y = 1.9604x<br>R² = 0.9987",
          "x": 5,
          "xanchor": "right",
          "y": 9.802160493827161,
          "yanchor": "bottom"
         }
        ],
        "font": {
         "family": "Arial",
         "size": 16
        },
        "height": 600,
        "margin": {
         "b": 60,
         "l": 60,
         "r": 30,
         "t": 30
        },
        "plot_bgcolor": "white",
        "template": {
         "data": {
          "bar": [
           {
            "error_x": {
             "color": "#2a3f5f"
            },
            "error_y": {
             "color": "#2a3f5f"
            },
            "marker": {
             "line": {
              "color": "#E5ECF6",
              "width": 0.5
             },
             "pattern": {
              "fillmode": "overlay",
              "size": 10,
              "solidity": 0.2
             }
            },
            "type": "bar"
           }
          ],
          "barpolar": [
           {
            "marker": {
             "line": {
              "color": "#E5ECF6",
              "width": 0.5
             },
             "pattern": {
              "fillmode": "overlay",
              "size": 10,
              "solidity": 0.2
             }
            },
            "type": "barpolar"
           }
          ],
          "carpet": [
           {
            "aaxis": {
             "endlinecolor": "#2a3f5f",
             "gridcolor": "white",
             "linecolor": "white",
             "minorgridcolor": "white",
             "startlinecolor": "#2a3f5f"
            },
            "baxis": {
             "endlinecolor": "#2a3f5f",
             "gridcolor": "white",
             "linecolor": "white",
             "minorgridcolor": "white",
             "startlinecolor": "#2a3f5f"
            },
            "type": "carpet"
           }
          ],
          "choropleth": [
           {
            "colorbar": {
             "outlinewidth": 0,
             "ticks": ""
            },
            "type": "choropleth"
           }
          ],
          "contour": [
           {
            "colorbar": {
             "outlinewidth": 0,
             "ticks": ""
            },
            "colorscale": [
             [
              0,
              "#0d0887"
             ],
             [
              0.1111111111111111,
              "#46039f"
             ],
             [
              0.2222222222222222,
              "#7201a8"
             ],
             [
              0.3333333333333333,
              "#9c179e"
             ],
             [
              0.4444444444444444,
              "#bd3786"
             ],
             [
              0.5555555555555556,
              "#d8576b"
             ],
             [
              0.6666666666666666,
              "#ed7953"
             ],
             [
              0.7777777777777778,
              "#fb9f3a"
             ],
             [
              0.8888888888888888,
              "#fdca26"
             ],
             [
              1,
              "#f0f921"
             ]
            ],
            "type": "contour"
           }
          ],
          "contourcarpet": [
           {
            "colorbar": {
             "outlinewidth": 0,
             "ticks": ""
            },
            "type": "contourcarpet"
           }
          ],
          "heatmap": [
           {
            "colorbar": {
             "outlinewidth": 0,
             "ticks": ""
            },
            "colorscale": [
             [
              0,
              "#0d0887"
             ],
             [
              0.1111111111111111,
              "#46039f"
             ],
             [
              0.2222222222222222,
              "#7201a8"
             ],
             [
              0.3333333333333333,
              "#9c179e"
             ],
             [
              0.4444444444444444,
              "#bd3786"
             ],
             [
              0.5555555555555556,
              "#d8576b"
             ],
             [
              0.6666666666666666,
              "#ed7953"
             ],
             [
              0.7777777777777778,
              "#fb9f3a"
             ],
             [
              0.8888888888888888,
              "#fdca26"
             ],
             [
              1,
              "#f0f921"
             ]
            ],
            "type": "heatmap"
           }
          ],
          "histogram": [
           {
            "marker": {
             "pattern": {
              "fillmode": "overlay",
              "size": 10,
              "solidity": 0.2
             }
            },
            "type": "histogram"
           }
          ],
          "histogram2d": [
           {
            "colorbar": {
             "outlinewidth": 0,
             "ticks": ""
            },
            "colorscale": [
             [
              0,
              "#0d0887"
             ],
             [
              0.1111111111111111,
              "#46039f"
             ],
             [
              0.2222222222222222,
              "#7201a8"
             ],
             [
              0.3333333333333333,
              "#9c179e"
             ],
             [
              0.4444444444444444,
              "#bd3786"
             ],
             [
              0.5555555555555556,
              "#d8576b"
             ],
             [
              0.6666666666666666,
              "#ed7953"
             ],
             [
              0.7777777777777778,
              "#fb9f3a"
             ],
             [
              0.8888888888888888,
              "#fdca26"
             ],
             [
              1,
              "#f0f921"
             ]
            ],
            "type": "histogram2d"
           }
          ],
          "histogram2dcontour": [
           {
            "colorbar": {
             "outlinewidth": 0,
             "ticks": ""
            },
            "colorscale": [
             [
              0,
              "#0d0887"
             ],
             [
              0.1111111111111111,
              "#46039f"
             ],
             [
              0.2222222222222222,
              "#7201a8"
             ],
             [
              0.3333333333333333,
              "#9c179e"
             ],
             [
              0.4444444444444444,
              "#bd3786"
             ],
             [
              0.5555555555555556,
              "#d8576b"
             ],
             [
              0.6666666666666666,
              "#ed7953"
             ],
             [
              0.7777777777777778,
              "#fb9f3a"
             ],
             [
              0.8888888888888888,
              "#fdca26"
             ],
             [
              1,
              "#f0f921"
             ]
            ],
            "type": "histogram2dcontour"
           }
          ],
          "mesh3d": [
           {
            "colorbar": {
             "outlinewidth": 0,
             "ticks": ""
            },
            "type": "mesh3d"
           }
          ],
          "parcoords": [
           {
            "line": {
             "colorbar": {
              "outlinewidth": 0,
              "ticks": ""
             }
            },
            "type": "parcoords"
           }
          ],
          "pie": [
           {
            "automargin": true,
            "type": "pie"
           }
          ],
          "scatter": [
           {
            "fillpattern": {
             "fillmode": "overlay",
             "size": 10,
             "solidity": 0.2
            },
            "type": "scatter"
           }
          ],
          "scatter3d": [
           {
            "line": {
             "colorbar": {
              "outlinewidth": 0,
              "ticks": ""
             }
            },
            "marker": {
             "colorbar": {
              "outlinewidth": 0,
              "ticks": ""
             }
            },
            "type": "scatter3d"
           }
          ],
          "scattercarpet": [
           {
            "marker": {
             "colorbar": {
              "outlinewidth": 0,
              "ticks": ""
             }
            },
            "type": "scattercarpet"
           }
          ],
          "scattergeo": [
           {
            "marker": {
             "colorbar": {
              "outlinewidth": 0,
              "ticks": ""
             }
            },
            "type": "scattergeo"
           }
          ],
          "scattergl": [
           {
            "marker": {
             "colorbar": {
              "outlinewidth": 0,
              "ticks": ""
             }
            },
            "type": "scattergl"
           }
          ],
          "scattermap": [
           {
            "marker": {
             "colorbar": {
              "outlinewidth": 0,
              "ticks": ""
             }
            },
            "type": "scattermap"
           }
          ],
          "scattermapbox": [
           {
            "marker": {
             "colorbar": {
              "outlinewidth": 0,
              "ticks": ""
             }
            },
            "type": "scattermapbox"
           }
          ],
          "scatterpolar": [
           {
            "marker": {
             "colorbar": {
              "outlinewidth": 0,
              "ticks": ""
             }
            },
            "type": "scatterpolar"
           }
          ],
          "scatterpolargl": [
           {
            "marker": {
             "colorbar": {
              "outlinewidth": 0,
              "ticks": ""
             }
            },
            "type": "scatterpolargl"
           }
          ],
          "scatterternary": [
           {
            "marker": {
             "colorbar": {
              "outlinewidth": 0,
              "ticks": ""
             }
            },
            "type": "scatterternary"
           }
          ],
          "surface": [
           {
            "colorbar": {
             "outlinewidth": 0,
             "ticks": ""
            },
            "colorscale": [
             [
              0,
              "#0d0887"
             ],
             [
              0.1111111111111111,
              "#46039f"
             ],
             [
              0.2222222222222222,
              "#7201a8"
             ],
             [
              0.3333333333333333,
              "#9c179e"
             ],
             [
              0.4444444444444444,
              "#bd3786"
             ],
             [
              0.5555555555555556,
              "#d8576b"
             ],
             [
              0.6666666666666666,
              "#ed7953"
             ],
             [
              0.7777777777777778,
              "#fb9f3a"
             ],
             [
              0.8888888888888888,
              "#fdca26"
             ],
             [
              1,
              "#f0f921"
             ]
            ],
            "type": "surface"
           }
          ],
          "table": [
           {
            "cells": {
             "fill": {
              "color": "#EBF0F8"
             },
             "line": {
              "color": "white"
             }
            },
            "header": {
             "fill": {
              "color": "#C8D4E3"
             },
             "line": {
              "color": "white"
             }
            },
            "type": "table"
           }
          ]
         },
         "layout": {
          "annotationdefaults": {
           "arrowcolor": "#2a3f5f",
           "arrowhead": 0,
           "arrowwidth": 1
          },
          "autotypenumbers": "strict",
          "coloraxis": {
           "colorbar": {
            "outlinewidth": 0,
            "ticks": ""
           }
          },
          "colorscale": {
           "diverging": [
            [
             0,
             "#8e0152"
            ],
            [
             0.1,
             "#c51b7d"
            ],
            [
             0.2,
             "#de77ae"
            ],
            [
             0.3,
             "#f1b6da"
            ],
            [
             0.4,
             "#fde0ef"
            ],
            [
             0.5,
             "#f7f7f7"
            ],
            [
             0.6,
             "#e6f5d0"
            ],
            [
             0.7,
             "#b8e186"
            ],
            [
             0.8,
             "#7fbc41"
            ],
            [
             0.9,
             "#4d9221"
            ],
            [
             1,
             "#276419"
            ]
           ],
           "sequential": [
            [
             0,
             "#0d0887"
            ],
            [
             0.1111111111111111,
             "#46039f"
            ],
            [
             0.2222222222222222,
             "#7201a8"
            ],
            [
             0.3333333333333333,
             "#9c179e"
            ],
            [
             0.4444444444444444,
             "#bd3786"
            ],
            [
             0.5555555555555556,
             "#d8576b"
            ],
            [
             0.6666666666666666,
             "#ed7953"
            ],
            [
             0.7777777777777778,
             "#fb9f3a"
            ],
            [
             0.8888888888888888,
             "#fdca26"
            ],
            [
             1,
             "#f0f921"
            ]
           ],
           "sequentialminus": [
            [
             0,
             "#0d0887"
            ],
            [
             0.1111111111111111,
             "#46039f"
            ],
            [
             0.2222222222222222,
             "#7201a8"
            ],
            [
             0.3333333333333333,
             "#9c179e"
            ],
            [
             0.4444444444444444,
             "#bd3786"
            ],
            [
             0.5555555555555556,
             "#d8576b"
            ],
            [
             0.6666666666666666,
             "#ed7953"
            ],
            [
             0.7777777777777778,
             "#fb9f3a"
            ],
            [
             0.8888888888888888,
             "#fdca26"
            ],
            [
             1,
             "#f0f921"
            ]
           ]
          },
          "colorway": [
           "#636efa",
           "#EF553B",
           "#00cc96",
           "#ab63fa",
           "#FFA15A",
           "#19d3f3",
           "#FF6692",
           "#B6E880",
           "#FF97FF",
           "#FECB52"
          ],
          "font": {
           "color": "#2a3f5f"
          },
          "geo": {
           "bgcolor": "white",
           "lakecolor": "white",
           "landcolor": "#E5ECF6",
           "showlakes": true,
           "showland": true,
           "subunitcolor": "white"
          },
          "hoverlabel": {
           "align": "left"
          },
          "hovermode": "closest",
          "mapbox": {
           "style": "light"
          },
          "paper_bgcolor": "white",
          "plot_bgcolor": "#E5ECF6",
          "polar": {
           "angularaxis": {
            "gridcolor": "white",
            "linecolor": "white",
            "ticks": ""
           },
           "bgcolor": "#E5ECF6",
           "radialaxis": {
            "gridcolor": "white",
            "linecolor": "white",
            "ticks": ""
           }
          },
          "scene": {
           "xaxis": {
            "backgroundcolor": "#E5ECF6",
            "gridcolor": "white",
            "gridwidth": 2,
            "linecolor": "white",
            "showbackground": true,
            "ticks": "",
            "zerolinecolor": "white"
           },
           "yaxis": {
            "backgroundcolor": "#E5ECF6",
            "gridcolor": "white",
            "gridwidth": 2,
            "linecolor": "white",
            "showbackground": true,
            "ticks": "",
            "zerolinecolor": "white"
           },
           "zaxis": {
            "backgroundcolor": "#E5ECF6",
            "gridcolor": "white",
            "gridwidth": 2,
            "linecolor": "white",
            "showbackground": true,
            "ticks": "",
            "zerolinecolor": "white"
           }
          },
          "shapedefaults": {
           "line": {
            "color": "#2a3f5f"
           }
          },
          "ternary": {
           "aaxis": {
            "gridcolor": "white",
            "linecolor": "white",
            "ticks": ""
           },
           "baxis": {
            "gridcolor": "white",
            "linecolor": "white",
            "ticks": ""
           },
           "bgcolor": "#E5ECF6",
           "caxis": {
            "gridcolor": "white",
            "linecolor": "white",
            "ticks": ""
           }
          },
          "title": {
           "x": 0.05
          },
          "xaxis": {
           "automargin": true,
           "gridcolor": "white",
           "linecolor": "white",
           "ticks": "",
           "title": {
            "standoff": 15
           },
           "zerolinecolor": "white",
           "zerolinewidth": 2
          },
          "yaxis": {
           "automargin": true,
           "gridcolor": "white",
           "linecolor": "white",
           "ticks": "",
           "title": {
            "standoff": 15
           },
           "zerolinecolor": "white",
           "zerolinewidth": 2
          }
         }
        },
        "width": 800,
        "xaxis": {
         "gridcolor": "gray",
         "gridwidth": 1,
         "linecolor": "black",
         "linewidth": 2,
         "mirror": true,
         "showgrid": true,
         "tickfont": {
          "size": 14
         },
         "title": {
          "font": {
           "size": 16
          },
          "text": "Concentration (g/L)"
         }
        },
        "yaxis": {
         "gridcolor": "gray",
         "gridwidth": 1,
         "linecolor": "black",
         "linewidth": 2,
         "mirror": true,
         "showgrid": true,
         "tickfont": {
          "size": 14
         },
         "title": {
          "font": {
           "size": 16
          },
          "text": "Conductivity (mS)"
         }
        }
       }
      }
     },
     "metadata": {},
     "output_type": "display_data"
    }
   ],
   "source": [
    "import pandas as pd\n",
    "import numpy as np\n",
    "import statsmodels.api as sm\n",
    "import plotly.graph_objects as go\n",
    "\n",
    "def plot_calibration(fileName):\n",
    "    # Load data from Excel\n",
    "    df = pd.read_excel(fileName, sheet_name=\"Results\")\n",
    "\n",
    "    # Conductivity (dependent variable)\n",
    "    y1 = df[\"Conductivity_A_(mS)\"]\n",
    "    y2 = df[\"Conductivity_B_(mS)\"]\n",
    "    y3 = df[\"Conductivity_C_(mS)\"]\n",
    "\n",
    "    # Concentration (independent variable)\n",
    "    x_from_excel = df[\"Concentration_(g/L)\"]\n",
    "\n",
    "    # Run number column (assuming it's named \"Run\" in Excel)\n",
    "    run_numbers = df[\"Run\"]\n",
    "\n",
    "    # Concatenate y values and replicate x values\n",
    "    y_data = np.concatenate([y1, y2, y3])  # Conductivity\n",
    "    x_data = np.tile(x_from_excel, 3)      # Concentration\n",
    "    run_data = np.tile(run_numbers, 3)     # Repeat run numbers\n",
    "\n",
    "    # Split data into two groups based on run number\n",
    "    mask_group1 = (run_data >= 0) & (run_data <= 4)\n",
    "    mask_group2 = (run_data >= 5) & (run_data <= 8)\n",
    "\n",
    "    x_data_group1, y_data_group1 = x_data[mask_group1], y_data[mask_group1]\n",
    "    x_data_group2, y_data_group2 = x_data[mask_group2], y_data[mask_group2]\n",
    "\n",
    "    # Fit separate OLS models (forcing zero intercept)\n",
    "    def fit_model(x, y):\n",
    "        X = x[:, np.newaxis]\n",
    "        model = sm.OLS(y, X).fit()\n",
    "        return model\n",
    "\n",
    "    model_group1 = fit_model(x_data_group1, y_data_group1)\n",
    "    model_group2 = fit_model(x_data_group2, y_data_group2)\n",
    "\n",
    "    # Get confidence intervals\n",
    "    def get_conf_intervals(model, X):\n",
    "        pred = model.get_prediction(X)\n",
    "        pred_summary = pred.summary_frame(alpha=0.05)\n",
    "        return pred_summary['mean_ci_lower'], pred_summary['mean_ci_upper']\n",
    "\n",
    "    ci_lower_group1, ci_upper_group1 = get_conf_intervals(model_group1, x_data_group1[:, np.newaxis])\n",
    "    ci_lower_group2, ci_upper_group2 = get_conf_intervals(model_group2, x_data_group2[:, np.newaxis])\n",
    "\n",
    "\n",
    "        # Create plotly figure\n",
    "    fig = go.Figure()\n",
    "\n",
    "    # --- Plot Group 1 line first (so it's behind) ---\n",
    "    fig.add_trace(go.Scatter(\n",
    "        x=x_data_group1,\n",
    "        y=model_group1.fittedvalues,\n",
    "        mode='lines',\n",
    "        name='OLS Model (Runs 0-4)',\n",
    "        showlegend=False,\n",
    "        line=dict(color=\"black\", width=2),\n",
    "        error_y=dict(\n",
    "            type='data',\n",
    "            symmetric=False,\n",
    "            array=ci_upper_group1 - model_group1.fittedvalues,\n",
    "            arrayminus=model_group1.fittedvalues - ci_lower_group1,\n",
    "            visible=True,\n",
    "            color=\"black\"\n",
    "        )\n",
    "    ))\n",
    "\n",
    "    # --- Then plot Group 1 points (on top) ---\n",
    "    fig.add_trace(go.Scatter(\n",
    "        x=x_data_group1,\n",
    "        y=y_data_group1,\n",
    "        mode=\"markers\",\n",
    "        marker=dict(symbol=\"cross\", size=10, color=\"crimson\"),  # distinct point color\n",
    "        name=\"Runs 0-4\"\n",
    "    ))\n",
    "\n",
    "    # --- Plot Group 2 line first ---\n",
    "    fig.add_trace(go.Scatter(\n",
    "        x=x_data_group2,\n",
    "        y=model_group2.fittedvalues,\n",
    "        mode='lines',\n",
    "        name='OLS Model (Runs 5-8)',\n",
    "        showlegend=False,\n",
    "        line=dict(color=\"black\", width=2),\n",
    "        error_y=dict(\n",
    "            type='data',\n",
    "            symmetric=False,\n",
    "            array=ci_upper_group2 - model_group2.fittedvalues,\n",
    "            arrayminus=model_group2.fittedvalues - ci_lower_group2,\n",
    "            visible=True,\n",
    "            color=\"black\"\n",
    "        )\n",
    "    ))\n",
    "\n",
    "    # --- Then plot Group 2 points (on top) ---\n",
    "    fig.add_trace(go.Scatter(\n",
    "        x=x_data_group2,\n",
    "        y=y_data_group2,\n",
    "        mode=\"markers\",\n",
    "        marker=dict(symbol=\"x\", size=10, color=\"blue\"),\n",
    "        name=\"Runs 5-8\"\n",
    "    ))\n",
    "\n",
    "\n",
    "    # # Plot Group 1 (Runs 0-4)\n",
    "    # fig.add_trace(go.Scatter(x=x_data_group1, y=y_data_group1, mode=\"markers\",\n",
    "    #                          marker=dict(symbol=\"x\", color=\"red\"), name=\"Runs 0-4\"))\n",
    "\n",
    "    # fig.add_trace(go.Scatter(\n",
    "    #     x=x_data_group1,\n",
    "    #     y=model_group1.fittedvalues,\n",
    "    #     mode='lines',\n",
    "    #     name='OLS Model (Runs 0-4)',\n",
    "    #     line=dict(color=\"black\"),\n",
    "    #     error_y=dict(\n",
    "    #         type='data',\n",
    "    #         symmetric=False,\n",
    "    #         array=ci_upper_group1 - model_group1.fittedvalues,\n",
    "    #         arrayminus=model_group1.fittedvalues - ci_lower_group1,\n",
    "    #         visible=True,\n",
    "    #         color=\"black\"\n",
    "    #     )\n",
    "    # ))\n",
    "\n",
    "    # # Plot Group 2 (Runs 5-8)\n",
    "    # fig.add_trace(go.Scatter(x=x_data_group2, y=y_data_group2, mode=\"markers\",\n",
    "    #                          marker=dict(symbol=\"circle\", color=\"blue\"), name=\"Runs 5-8\"))\n",
    "\n",
    "    # fig.add_trace(go.Scatter(\n",
    "    #     x=x_data_group2,\n",
    "    #     y=model_group2.fittedvalues,\n",
    "    #     mode='lines',\n",
    "    #     name='OLS Model (Runs 5-8)',\n",
    "    #     line=dict(color=\"blue\"),\n",
    "    #     error_y=dict(\n",
    "    #         type='data',\n",
    "    #         symmetric=False,\n",
    "    #         array=ci_upper_group2 - model_group2.fittedvalues,\n",
    "    #         arrayminus=model_group2.fittedvalues - ci_lower_group2,\n",
    "    #         visible=True,\n",
    "    #         color=\"blue\"\n",
    "    #     )\n",
    "    # ))\n",
    "\n",
    "    # Extract slopes\n",
    "    # Extract slopes and R² values\n",
    "    slope_group1 = model_group1.params[0]\n",
    "    r2_group1 = model_group1.rsquared\n",
    "\n",
    "    slope_group2 = model_group2.params[0]\n",
    "    r2_group2 = model_group2.rsquared\n",
    "\n",
    "\n",
    "    # Add equation annotations\n",
    "    # fig.add_annotation(\n",
    "    #     x=x_data_group1.max(),\n",
    "    #     y=slope_group1 * x_data_group1.max(),\n",
    "    #     text=f\"<b>y = {slope_group1:.4f}x</b> (Runs 0-4)\",\n",
    "    #     font=dict(size=14, color=\"black\"),\n",
    "    #     xanchor=\"right\",\n",
    "    #     yanchor=\"bottom\",\n",
    "    #     bgcolor=\"white\"\n",
    "    # )\n",
    "\n",
    "    # fig.add_annotation(\n",
    "    #     x=x_data_group2.max(),\n",
    "    #     y=slope_group2 * x_data_group2.max(),\n",
    "    #     text=f\"<b>y = {slope_group2:.4f}x</b> (Runs 5-8)\",\n",
    "    #     font=dict(size=14, color=\"blue\"),\n",
    "    #     xanchor=\"right\",\n",
    "    #     yanchor=\"bottom\",\n",
    "    #     bgcolor=\"white\"\n",
    "    # )\n",
    "    # Add equation + R² annotation for Group 1\n",
    "    fig.add_annotation(\n",
    "        x=x_data_group1.max(),\n",
    "        y=slope_group1 * x_data_group1.max(),\n",
    "        text=f\"<b>y = {slope_group1:.4f}x<br>R² = {r2_group1:.4f}\",\n",
    "        font=dict(size=16, color=\"black\"),\n",
    "        xanchor=\"right\",\n",
    "        yanchor=\"bottom\",\n",
    "        bgcolor=\"white\"\n",
    "    )\n",
    "\n",
    "    # Add equation + R² annotation for Group 2\n",
    "    fig.add_annotation(\n",
    "        x=x_data_group2.max(),\n",
    "        y=slope_group2 * x_data_group2.max(),\n",
    "        text=f\"<b>y = {slope_group2:.4f}x<br>R² = {r2_group2:.4f}\",\n",
    "        font=dict(size=16, color=\"blue\"),\n",
    "        xanchor=\"right\",\n",
    "        yanchor=\"bottom\",\n",
    "        bgcolor=\"white\"\n",
    "    )\n",
    "\n",
    "    # Update layout\n",
    "    fig.update_layout(\n",
    "        xaxis=dict(\n",
    "            showgrid=True,\n",
    "            gridwidth=1,\n",
    "            gridcolor=\"gray\",\n",
    "            title=\"Concentration (g/L)\",  # X-axis\n",
    "            title_font=dict(size=16),\n",
    "            tickfont=dict(size=14),\n",
    "            linewidth=2,\n",
    "            linecolor=\"black\",\n",
    "            mirror=True\n",
    "        ),\n",
    "        yaxis=dict(\n",
    "            showgrid=True,\n",
    "            gridwidth=1,\n",
    "            gridcolor=\"gray\",\n",
    "            title=\"Conductivity (mS)\",  # Y-axis\n",
    "            title_font=dict(size=16),\n",
    "            tickfont=dict(size=14),\n",
    "            linewidth=2,\n",
    "            linecolor=\"black\",\n",
    "            mirror=True\n",
    "        ),\n",
    "        # title=f\"Calibration Curve - {fileName}\",\n",
    "        width=800,\n",
    "        height=600,\n",
    "        font=dict(family=\"Arial\", size=16),\n",
    "        plot_bgcolor=\"white\",\n",
    "        margin=dict(l=60, r=30, t=30, b=60)\n",
    "    )\n",
    "\n",
    "    fig.show()\n",
    "\n",
    "# Run the function for both files\n",
    "plot_calibration(\"RO_Week_1_Data.xlsx\")\n",
    "plot_calibration(\"RO_Week_2_Data.xlsx\")\n"
   ]
  }
 ],
 "metadata": {
  "kernelspec": {
   "display_name": "plotly_env_RO",
   "language": "python",
   "name": "python3"
  },
  "language_info": {
   "codemirror_mode": {
    "name": "ipython",
    "version": 3
   },
   "file_extension": ".py",
   "mimetype": "text/x-python",
   "name": "python",
   "nbconvert_exporter": "python",
   "pygments_lexer": "ipython3",
   "version": "3.13.2"
  }
 },
 "nbformat": 4,
 "nbformat_minor": 2
}
